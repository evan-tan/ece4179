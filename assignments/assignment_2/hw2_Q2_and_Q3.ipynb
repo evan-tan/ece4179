{
 "cells": [
  {
   "cell_type": "code",
   "execution_count": null,
   "metadata": {},
   "outputs": [],
   "source": [
    "import torch\n",
    "from torch.utils.data import Dataset, DataLoader\n",
    "\n",
    "\n",
    "import numpy as np\n",
    "import matplotlib.pyplot as plt"
   ]
  },
  {
   "cell_type": "markdown",
   "metadata": {},
   "source": [
    "## Q2 dataloader\n",
    "\n",
    "the following class reads the data for Q2 and creates a torch dataset object for it. With this, you can easily \n",
    "use a dataloader to train your model. \n",
    "\n",
    "Make sure that the file \"hw2_Q2_data.npz\" is located properly (in this example, it should be in the same folder as this notebook.\n",
    "\n",
    " \n",
    "\n"
   ]
  },
  {
   "cell_type": "code",
   "execution_count": null,
   "metadata": {},
   "outputs": [],
   "source": [
    "class Q2Data(Dataset):\n",
    "    def __init__(self,trn_val_tst = 0):\n",
    "        data = np.load('./data/hw2_Q2_and_Q3_data.npz')\n",
    "        if trn_val_tst == 0:\n",
    "            #trainloader\n",
    "            self.images = data['arr_0'].T\n",
    "            self.labels = data['arr_1']\n",
    "        elif trn_val_tst == 1:\n",
    "            #valloader\n",
    "            self.images = data['arr_2'].T\n",
    "            self.labels = data['arr_3']\n",
    "        else:\n",
    "            #testloader\n",
    "            self.images = data['arr_4'].T\n",
    "            self.labels = data['arr_5']\n",
    "            \n",
    "        self.images = np.float32(self.images)/255.0\n",
    "\n",
    "\n",
    "    def __len__(self):\n",
    "        return len(self.labels)\n",
    "\n",
    "    def __getitem__(self, idx):\n",
    "        if torch.is_tensor(idx):\n",
    "            idx = idx.tolist()\n",
    "   \n",
    "        sample = self.images[idx,:]\n",
    "        labels = self.labels[idx]\n",
    "        return sample, labels"
   ]
  },
  {
   "cell_type": "markdown",
   "metadata": {},
   "source": [
    "Here is an example of how you can create a dataloader for the Q2 data"
   ]
  },
  {
   "cell_type": "code",
   "execution_count": null,
   "metadata": {},
   "outputs": [],
   "source": [
    "trainset =   Q2Data(trn_val_tst=0)  \n",
    "trainloader = torch.utils.data.DataLoader(trainset, batch_size=100,\n",
    "                                         shuffle=True)\n",
    "\n",
    "valset =   Q2Data(trn_val_tst=1)  \n",
    "valloader = torch.utils.data.DataLoader(valset, batch_size=100,\n",
    "                                         shuffle=False)\n",
    "\n",
    "testset =   Q2Data(trn_val_tst=2)  \n",
    "testloader = torch.utils.data.DataLoader(testset, batch_size=100,\n",
    "                                         shuffle=False)"
   ]
  }
 ],
 "metadata": {
  "kernelspec": {
   "display_name": "Python 3",
   "language": "python",
   "name": "python3"
  },
  "language_info": {
   "codemirror_mode": {
    "name": "ipython",
    "version": 3
   },
   "file_extension": ".py",
   "mimetype": "text/x-python",
   "name": "python",
   "nbconvert_exporter": "python",
   "pygments_lexer": "ipython3",
   "version": "3.7.11"
  }
 },
 "nbformat": 4,
 "nbformat_minor": 2
}
