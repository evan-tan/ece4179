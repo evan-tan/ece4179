{
 "cells": [
  {
   "cell_type": "markdown",
   "metadata": {},
   "source": [
    "<h1> Lab 1 : Python basics </h1>\n",
    "For this unit we with be using the Python programming language! Python is an \"interpreted\" language, which means that there is no need to compile code before we run it! This means we can use programs like Jupyter to create and run code in an \"interactive\" setting which aids in prototyping and learning of new ideas! (like deep learning!)\n",
    "\n",
    "<img src=\"https://upload.wikimedia.org/wikipedia/commons/thumb/f/f8/Python_logo_and_wordmark.svg/2880px-Python_logo_and_wordmark.svg.png\" width=\"1000\" align=\"center\">"
   ]
  },
  {
   "cell_type": "markdown",
   "metadata": {},
   "source": [
    "<h2> 1. Assigning Values to Variables </h2>\n",
    "\n",
    "Python variables do not need explicit declaration to reserve memory space. The declaration happens automatically when you assign a value to a variable. The equal sign (=) is used to assign values to variables.\n",
    "\n",
    "The operand to the left of the = operator is the name of the variable and the operand to the right of the = operator is the value stored in the variable. For example −"
   ]
  },
  {
   "cell_type": "code",
   "execution_count": 1,
   "metadata": {
    "scrolled": true
   },
   "outputs": [
    {
     "data": {
      "text/plain": [
       "100"
      ]
     },
     "execution_count": 1,
     "metadata": {},
     "output_type": "execute_result"
    }
   ],
   "source": [
    "counter = 100          # An integer assignment\n",
    "counter"
   ]
  },
  {
   "cell_type": "code",
   "execution_count": 2,
   "metadata": {},
   "outputs": [
    {
     "data": {
      "text/plain": [
       "1000.0"
      ]
     },
     "execution_count": 2,
     "metadata": {},
     "output_type": "execute_result"
    }
   ],
   "source": [
    "miles   = 1000.0       # A floating point\n",
    "miles"
   ]
  },
  {
   "cell_type": "code",
   "execution_count": 3,
   "metadata": {},
   "outputs": [
    {
     "data": {
      "text/plain": [
       "'John'"
      ]
     },
     "execution_count": 3,
     "metadata": {},
     "output_type": "execute_result"
    }
   ],
   "source": [
    "name    = \"John\"       # A string\n",
    "name"
   ]
  },
  {
   "cell_type": "markdown",
   "metadata": {},
   "source": [
    "<h3> Multiple Assignment</h3>\n",
    "\n",
    "Python allows you to assign a single value to several variables simultaneously.\n",
    "\n",
    "For example, here, an integer object is created with the value 1, and all the three variables are assigned to the same memory location."
   ]
  },
  {
   "cell_type": "code",
   "execution_count": 4,
   "metadata": {},
   "outputs": [],
   "source": [
    "a = b = c = 1"
   ]
  },
  {
   "cell_type": "code",
   "execution_count": 5,
   "metadata": {},
   "outputs": [
    {
     "data": {
      "text/plain": [
       "1"
      ]
     },
     "execution_count": 5,
     "metadata": {},
     "output_type": "execute_result"
    }
   ],
   "source": [
    "a"
   ]
  },
  {
   "cell_type": "code",
   "execution_count": 6,
   "metadata": {},
   "outputs": [
    {
     "data": {
      "text/plain": [
       "1"
      ]
     },
     "execution_count": 6,
     "metadata": {},
     "output_type": "execute_result"
    }
   ],
   "source": [
    "b"
   ]
  },
  {
   "cell_type": "code",
   "execution_count": 7,
   "metadata": {},
   "outputs": [
    {
     "data": {
      "text/plain": [
       "1"
      ]
     },
     "execution_count": 7,
     "metadata": {},
     "output_type": "execute_result"
    }
   ],
   "source": [
    "c"
   ]
  },
  {
   "cell_type": "markdown",
   "metadata": {},
   "source": [
    "You can also assign multiple objects to multiple variables. For example here, two integer objects with values 1 and 2 are assigned to the variables a and b respectively, and one string object with the value \"john\" is assigned to the variable c."
   ]
  },
  {
   "cell_type": "code",
   "execution_count": 8,
   "metadata": {},
   "outputs": [],
   "source": [
    "a, b, c = 1, 2, \"john\""
   ]
  },
  {
   "cell_type": "markdown",
   "metadata": {},
   "source": [
    "<h3> Printing </h3>\n",
    "Before we go any further lets have a look at a few ways we can \"print out\" variables. Up until know we have just used the fact that Python will print out variables if simply declared by themselves, we will now use some proper printing methods to visualise our variables. <br><br>\n",
    "The simplest printing method is to just pass the variable we wish to display to the print function"
   ]
  },
  {
   "cell_type": "code",
   "execution_count": 9,
   "metadata": {},
   "outputs": [
    {
     "name": "stdout",
     "output_type": "stream",
     "text": [
      "Hello\n"
     ]
    }
   ],
   "source": [
    "print(\"Hello\")"
   ]
  },
  {
   "cell_type": "markdown",
   "metadata": {},
   "source": [
    "We can print mutiple variables at once"
   ]
  },
  {
   "cell_type": "code",
   "execution_count": 10,
   "metadata": {},
   "outputs": [
    {
     "name": "stdout",
     "output_type": "stream",
     "text": [
      "Hello World\n",
      "Hello-World\n",
      "Hello_World_9000\n"
     ]
    }
   ],
   "source": [
    "#Print two strings\n",
    "print(\"Hello\", \"World\")\n",
    "#Print two strings seperated by a hyphen\n",
    "print(\"Hello\", \"World\", sep=\"-\") #sep defines the \"seperator\" between displayed variables, defaults to a space\n",
    "#Print two strings and an integer seperated by an underscore\n",
    "print(\"Hello\", \"World\", 9000, sep=\"_\") "
   ]
  },
  {
   "cell_type": "markdown",
   "metadata": {},
   "source": [
    "Printing parameterised strings. <br>\n",
    "There are many many ways we can incorporate named variables into our print function, choose your favourite!"
   ]
  },
  {
   "cell_type": "code",
   "execution_count": 11,
   "metadata": {},
   "outputs": [
    {
     "name": "stdout",
     "output_type": "stream",
     "text": [
      "My name is Tim and I am 21 years old\n",
      "My name is Tim and I am 21 years old\n",
      "My name is Tim and I am 21 years old\n",
      "My name is Tim and I am 21 years old\n"
     ]
    }
   ],
   "source": [
    "name = \"Tim\"\n",
    "age = 21\n",
    "\n",
    "#Printing multiple variables - pretty much the same as before\n",
    "print(\"My name is\", name, \"and I am\", age, \"years old\")\n",
    "\n",
    "#Using + to concatenate strings, need str() to convert int to string\n",
    "print(\"My name is \" + name + \" and I am \" + str(age) + \" years old\")\n",
    "\n",
    "#Using % to print a variable and explicitly define the type.\n",
    "#s-string d-int f-float (can also define precision with float - %.2f)\n",
    "print(\"My name is %s and I am %d years old\" %(name, age))\n",
    "\n",
    "#Formatted String Literals let you include variables within the printed string - need to define type as well\n",
    "print(f'My name is {name:s} and I am {age:d} years old')"
   ]
  },
  {
   "cell_type": "markdown",
   "metadata": {},
   "source": [
    "<h3> Operators </h3>\n",
    "\n",
    "Like in other programming languages, arithmatic operators allow us to perform arithmatic:"
   ]
  },
  {
   "cell_type": "code",
   "execution_count": 12,
   "metadata": {},
   "outputs": [
    {
     "name": "stdout",
     "output_type": "stream",
     "text": [
      "5\n",
      "-1\n",
      "6\n",
      "0.6666666666666666\n",
      "0\n",
      "2\n",
      "8\n"
     ]
    }
   ],
   "source": [
    "a = 2\n",
    "b = 3\n",
    "print(a + b)  #Addition\n",
    "print(a - b)  #Subtraction\n",
    "print(a * b)  #Multiplication\n",
    "print(a / b)  #Division\n",
    "print(a // b) #Integer (or floored) division\n",
    "print(a % b)  #Modulus\n",
    "print(a ** b) #Exponent"
   ]
  },
  {
   "cell_type": "markdown",
   "metadata": {},
   "source": [
    "Assignment operators combine assigning values to variables and athithatic operators:"
   ]
  },
  {
   "cell_type": "code",
   "execution_count": 13,
   "metadata": {},
   "outputs": [
    {
     "name": "stdout",
     "output_type": "stream",
     "text": [
      "10\n",
      "12\n",
      "9\n",
      "90\n",
      "4.5\n"
     ]
    }
   ],
   "source": [
    "a = 10\n",
    "print(a)\n",
    "a += 2   # a = a+2\n",
    "print(a)\n",
    "a -= 3   # a = a-3\n",
    "print(a)\n",
    "a *= 10  # a = a*10\n",
    "print(a)\n",
    "a /= 20  # a = a/20\n",
    "print(a)"
   ]
  },
  {
   "cell_type": "markdown",
   "metadata": {},
   "source": [
    "Comparison operators perform comparisons between variables and return booleans (i.e. True/False):"
   ]
  },
  {
   "cell_type": "code",
   "execution_count": 14,
   "metadata": {},
   "outputs": [
    {
     "name": "stdout",
     "output_type": "stream",
     "text": [
      "False\n",
      "True\n",
      "False\n",
      "True\n",
      "False\n",
      "True\n"
     ]
    }
   ],
   "source": [
    "a = 2\n",
    "b = 3\n",
    "print(a == b) #Equal to\n",
    "print(a != b) #Not equal to\n",
    "print(a > b)  #Greater than\n",
    "print(a < b)  #Less than\n",
    "print(a >= b) #Greater than or equal to\n",
    "print(a <= b) #Less than or equal to"
   ]
  },
  {
   "cell_type": "markdown",
   "metadata": {},
   "source": [
    "Logical operators perform logic operations:"
   ]
  },
  {
   "cell_type": "code",
   "execution_count": 15,
   "metadata": {},
   "outputs": [
    {
     "name": "stdout",
     "output_type": "stream",
     "text": [
      "False\n",
      "True\n",
      "False\n",
      "True\n"
     ]
    }
   ],
   "source": [
    "a = True\n",
    "b = False\n",
    "print(a and b) #Logical and\n",
    "print(a or b)  #Logical or\n",
    "print(not a)\n",
    "print(not b)"
   ]
  },
  {
   "cell_type": "markdown",
   "metadata": {},
   "source": [
    "<h3> Standard Data Types</h3>\n",
    "\n",
    "The data stored in memory can be of many types. For example, a person's age is stored as a numeric value and his or her address is stored as alphanumeric characters. Python has various standard data types that are used to define the operations possible on them and the storage method for each of them.\n",
    "\n",
    "Python has five standard data types:\n",
    "\n",
    "    -Numbers\n",
    "    -String\n",
    "    -List\n",
    "    -Tuple\n",
    "    -Dictionary\n"
   ]
  },
  {
   "cell_type": "markdown",
   "metadata": {},
   "source": [
    "<h3> Python Numbers </h3>\n",
    "\n",
    "Number data types store numeric values. Number objects are created when you assign a value to them. For example −"
   ]
  },
  {
   "cell_type": "code",
   "execution_count": 16,
   "metadata": {},
   "outputs": [],
   "source": [
    "var1 = 1\n",
    "var2 = 10"
   ]
  },
  {
   "cell_type": "markdown",
   "metadata": {},
   "source": [
    "You can also delete the reference to a number object by using the del statement. The syntax of the del statement is −"
   ]
  },
  {
   "cell_type": "code",
   "execution_count": 17,
   "metadata": {},
   "outputs": [],
   "source": [
    "del var1, var2"
   ]
  },
  {
   "cell_type": "markdown",
   "metadata": {},
   "source": [
    "<h3> Python Strings </h3>\n",
    "\n",
    "Strings in Python are identified as a contiguous set of characters represented in the quotation marks. Python allows either pair of single or double quotes. Subsets of strings can be taken using the slice operator ([ ] and [:] ) with indexes starting at 0 in the beginning of the string and working their way from -1 to the end.\n",
    "\n",
    "The plus (+) sign is the string concatenation operator and the asterisk (*) is the repetition operator. For example −"
   ]
  },
  {
   "cell_type": "code",
   "execution_count": 18,
   "metadata": {},
   "outputs": [
    {
     "name": "stdout",
     "output_type": "stream",
     "text": [
      "Hello World!\n",
      "H\n",
      "llo\n",
      "llo World!\n",
      "Hello World!Hello World!\n",
      "Hello World!TEST\n"
     ]
    }
   ],
   "source": [
    "str_ = 'Hello World!'\n",
    "\n",
    "print (str_)          # Prints complete string\n",
    "print (str_[0])       # Prints first character of the string\n",
    "print (str_[2:5])     # Prints characters starting from 3rd to 5th\n",
    "print (str_[2:])      # Prints string starting from 3rd character\n",
    "print (str_ * 2)      # Prints string two times\n",
    "print (str_ + \"TEST\") # Prints concatenated string"
   ]
  },
  {
   "cell_type": "markdown",
   "metadata": {},
   "source": [
    "<h3> Python Lists </h3>\n",
    "\n",
    "Lists are the most versatile of Python's compound data types. A list contains items separated by commas and enclosed within square brackets ([]). To some extent, lists are similar to arrays in C. One of the differences between them is that all the items belonging to a list can be of different data type.\n",
    "\n",
    "The values stored in a list can be accessed using the slice operator ([ ] and [:]) with indexes starting at 0 in the beginning of the list and working their way to end -1. The plus (+) sign is the list concatenation operator, and the asterisk (*) is the repetition operator. For example −"
   ]
  },
  {
   "cell_type": "code",
   "execution_count": 19,
   "metadata": {},
   "outputs": [
    {
     "name": "stdout",
     "output_type": "stream",
     "text": [
      "['abcd', 786, 2.23, 'john', 70.2]\n",
      "abcd\n",
      "[786, 2.23]\n",
      "[2.23, 'john', 70.2]\n",
      "[123, 'john', 123, 'john']\n",
      "['abcd', 786, 2.23, 'john', 70.2, 123, 'john']\n",
      "[70.2, 'john', 2.23, 786, 'abcd']\n"
     ]
    }
   ],
   "source": [
    "list_ = [ 'abcd', 786 , 2.23, 'john', 70.2 ]\n",
    "tinylist = [123, 'john']\n",
    "\n",
    "print (list_)            # Prints complete list\n",
    "print (list_[0])         # Prints first element of the list\n",
    "print (list_[1:3])       # Prints elements starting from 2nd till 3rd \n",
    "print (list_[2:])        # Prints elements starting from 3rd element\n",
    "print (tinylist * 2)     # Prints list two times\n",
    "print (list_ + tinylist) # Prints concatenated lists\n",
    "print (list_[::-1])      # Prints the reverse of the list"
   ]
  },
  {
   "cell_type": "markdown",
   "metadata": {},
   "source": [
    "\"append\" can be used to append elements to the end of a list, and the len() function can be used to get the length of a list (i.e. the number of elements):"
   ]
  },
  {
   "cell_type": "code",
   "execution_count": 20,
   "metadata": {},
   "outputs": [
    {
     "name": "stdout",
     "output_type": "stream",
     "text": [
      "[23]\n",
      "1\n",
      "[23, 54]\n",
      "2\n"
     ]
    }
   ],
   "source": [
    "list2 = [] #Create empty list\n",
    "list2.append(23) #Append element to end of list\n",
    "print(list2)\n",
    "print(len(list2))\n",
    "list2.append(54) #Append element to end of list\n",
    "print(list2)\n",
    "print(len(list2))"
   ]
  },
  {
   "cell_type": "markdown",
   "metadata": {},
   "source": [
    "<h3> Python Tuples </h3>\n",
    "\n",
    "A tuple is another sequence data type that is similar to the list. A tuple consists of a number of values separated by commas. Unlike lists, however, tuples are enclosed within parenthesis.\n",
    "\n",
    "The main difference between lists and tuples are − Lists are enclosed in brackets ( [ ] ) and their elements and size can be changed, while tuples are enclosed in parentheses ( ( ) ) and cannot be updated. Tuples can be thought of as read-only lists. For example −"
   ]
  },
  {
   "cell_type": "code",
   "execution_count": 21,
   "metadata": {},
   "outputs": [
    {
     "name": "stdout",
     "output_type": "stream",
     "text": [
      "('abcd', 786, 2.23, 'john', 70.2)\n",
      "abcd\n",
      "(786, 2.23)\n",
      "(2.23, 'john', 70.2)\n",
      "(123, 'john', 123, 'john')\n",
      "('abcd', 786, 2.23, 'john', 70.2, 123, 'john')\n"
     ]
    }
   ],
   "source": [
    "tuple_ = ( 'abcd', 786 , 2.23, 'john', 70.2  )\n",
    "tinytuple = (123, 'john')\n",
    "\n",
    "print (tuple_)           # Prints complete tuple\n",
    "print (tuple_[0])        # Prints first element of the tuple\n",
    "print (tuple_[1:3])      # Prints elements starting from 2nd till 3rd \n",
    "print (tuple_[2:])       # Prints elements starting from 3rd element\n",
    "print (tinytuple * 2)   # Prints tuple two times\n",
    "print (tuple_ + tinytuple) # Prints concatenated tuple"
   ]
  },
  {
   "cell_type": "markdown",
   "metadata": {},
   "source": [
    "The following code is invalid with tuple, because we attempted to update a tuple, which is not allowed. Similar case is possible with lists −"
   ]
  },
  {
   "cell_type": "code",
   "execution_count": 22,
   "metadata": {},
   "outputs": [
    {
     "ename": "TypeError",
     "evalue": "'tuple' object does not support item assignment",
     "output_type": "error",
     "traceback": [
      "\u001b[0;31m---------------------------------------------------------------------------\u001b[0m",
      "\u001b[0;31mTypeError\u001b[0m                                 Traceback (most recent call last)",
      "\u001b[0;32m<ipython-input-22-94484563cd0a>\u001b[0m in \u001b[0;36m<module>\u001b[0;34m()\u001b[0m\n\u001b[1;32m      1\u001b[0m \u001b[0mtuple_\u001b[0m \u001b[0;34m=\u001b[0m \u001b[0;34m(\u001b[0m \u001b[0;34m'abcd'\u001b[0m\u001b[0;34m,\u001b[0m \u001b[0;36m786\u001b[0m \u001b[0;34m,\u001b[0m \u001b[0;36m2.23\u001b[0m\u001b[0;34m,\u001b[0m \u001b[0;34m'john'\u001b[0m\u001b[0;34m,\u001b[0m \u001b[0;36m70.2\u001b[0m  \u001b[0;34m)\u001b[0m\u001b[0;34m\u001b[0m\u001b[0m\n\u001b[1;32m      2\u001b[0m \u001b[0mlist_\u001b[0m \u001b[0;34m=\u001b[0m \u001b[0;34m[\u001b[0m \u001b[0;34m'abcd'\u001b[0m\u001b[0;34m,\u001b[0m \u001b[0;36m786\u001b[0m \u001b[0;34m,\u001b[0m \u001b[0;36m2.23\u001b[0m\u001b[0;34m,\u001b[0m \u001b[0;34m'john'\u001b[0m\u001b[0;34m,\u001b[0m \u001b[0;36m70.2\u001b[0m  \u001b[0;34m]\u001b[0m\u001b[0;34m\u001b[0m\u001b[0m\n\u001b[0;32m----> 3\u001b[0;31m \u001b[0mtuple_\u001b[0m\u001b[0;34m[\u001b[0m\u001b[0;36m2\u001b[0m\u001b[0;34m]\u001b[0m \u001b[0;34m=\u001b[0m \u001b[0;36m1000\u001b[0m    \u001b[0;31m# Invalid syntax with tuple\u001b[0m\u001b[0;34m\u001b[0m\u001b[0m\n\u001b[0m\u001b[1;32m      4\u001b[0m \u001b[0mlist_\u001b[0m\u001b[0;34m[\u001b[0m\u001b[0;36m2\u001b[0m\u001b[0;34m]\u001b[0m \u001b[0;34m=\u001b[0m \u001b[0;36m1000\u001b[0m     \u001b[0;31m# Valid syntax with list\u001b[0m\u001b[0;34m\u001b[0m\u001b[0m\n",
      "\u001b[0;31mTypeError\u001b[0m: 'tuple' object does not support item assignment"
     ]
    }
   ],
   "source": [
    "tuple_ = ( 'abcd', 786 , 2.23, 'john', 70.2  )\n",
    "list_ = [ 'abcd', 786 , 2.23, 'john', 70.2  ]\n",
    "tuple_[2] = 1000    # Invalid syntax with tuple\n",
    "list_[2] = 1000     # Valid syntax with list"
   ]
  },
  {
   "cell_type": "markdown",
   "metadata": {},
   "source": [
    "<h3> Python Dictionary </h3>\n",
    "\n",
    "Python's dictionaries are kind of hash-table type. They work like associative arrays or hashes found in Perl and consist of key-value pairs. A dictionary key can be almost any Python type, but are usually numbers or strings. Values, on the other hand, can be any arbitrary Python object.\n",
    "\n",
    "Dictionaries are enclosed by curly braces ({ }) and values can be assigned and accessed using square braces ([]). For example −"
   ]
  },
  {
   "cell_type": "code",
   "execution_count": null,
   "metadata": {},
   "outputs": [],
   "source": [
    "dict_ = {}\n",
    "dict_['one'] = \"This is one\"\n",
    "dict_[2]     = \"This is two\"\n",
    "\n",
    "tinydict = {'name': 'john','code':6734, 'dept': 'sales'}\n",
    "\n",
    "print (dict_['one'])       # Prints value for 'one' key\n",
    "print (dict_[2])           # Prints value for 2 key\n",
    "print (tinydict)          # Prints complete dictionary\n",
    "print (tinydict.keys())   # Prints all the keys\n",
    "print (tinydict.values()) # Prints all the values"
   ]
  },
  {
   "cell_type": "markdown",
   "metadata": {},
   "source": [
    "Dictionaries have no concept of order among the elements. It is incorrect to say that the elements are \"out of order\"; they are simply unordered."
   ]
  },
  {
   "cell_type": "markdown",
   "metadata": {},
   "source": [
    "<h2> 2. Decision Making </h2>\n",
    "Decision-making is the anticipation of conditions occurring during the execution of a program and specified actions taken according to the conditions.\n",
    "\n",
    "Decision structures evaluate multiple expressions, which produce TRUE or FALSE as the outcome. You need to determine which action to take and which statements to execute if the outcome is TRUE or FALSE otherwise.\n",
    "\n",
    "Python programming language assumes any non-zero and non-null values as TRUE, and any zero or null values as FALSE value.\n",
    "\n",
    "Python provides the following three types of decision-making statements.\n",
    "\n",
    "1. if statements: An if statement consists of a boolean expression followed by one or more statements.\n",
    "2. if...else statements: An if statement can be followed by an optional else statement, which executes when the boolean expression is FALSE.\n",
    "3. nested if statements: You can use one if or else if statement inside another if or else if statement(s).\n",
    "\n",
    "Let's go through an example quickly,"
   ]
  },
  {
   "cell_type": "code",
   "execution_count": null,
   "metadata": {},
   "outputs": [],
   "source": [
    "var = 100\n",
    "\n",
    "if (var==50):\n",
    "    print('Value of expression is 50')\n",
    "elif(var==100): #else if statement is written as elif in python.\n",
    "    print('Value of expression is 100')\n",
    "else:\n",
    "    print('Value of expression is neither 50 or 100')"
   ]
  },
  {
   "cell_type": "markdown",
   "metadata": {},
   "source": [
    "<h2> 3. Loops </h2>\n",
    "\n",
    "A loop statement allows us to execute a statement or group of statements multiple times. Python has two basic loop types: while and for.\n",
    "\n",
    "A while loop repeats a statement or group of statements while a given condition is TRUE. It tests the condition before executing the loop body."
   ]
  },
  {
   "cell_type": "code",
   "execution_count": null,
   "metadata": {},
   "outputs": [],
   "source": [
    "counter = 0\n",
    "while counter < 4:\n",
    "    print(counter)\n",
    "    counter += 1"
   ]
  },
  {
   "cell_type": "markdown",
   "metadata": {},
   "source": [
    "A for loop iterates over a sequence, such as a list, tuple or string. The same loop as above can be writen in the following ways:"
   ]
  },
  {
   "cell_type": "code",
   "execution_count": null,
   "metadata": {},
   "outputs": [],
   "source": [
    "numbers = [0,1,2,3]\n",
    "for counter in numbers:\n",
    "    print(counter)"
   ]
  },
  {
   "cell_type": "markdown",
   "metadata": {},
   "source": [
    "Use the \"range\" function to easily create the sequence:"
   ]
  },
  {
   "cell_type": "code",
   "execution_count": null,
   "metadata": {},
   "outputs": [],
   "source": [
    "for counter in range(4):\n",
    "    print(counter)"
   ]
  },
  {
   "cell_type": "markdown",
   "metadata": {},
   "source": [
    "When range is passed a single value, e.g. range(4), the start value is 0 and the step size is 1. We can also provide a starting point as range(start, end), e.g.:"
   ]
  },
  {
   "cell_type": "code",
   "execution_count": null,
   "metadata": {},
   "outputs": [],
   "source": [
    "for counter in range(10, 14):\n",
    "    print(counter)"
   ]
  },
  {
   "cell_type": "markdown",
   "metadata": {},
   "source": [
    "We can also provide a step size (positive or negative) as range(start, end, step):"
   ]
  },
  {
   "cell_type": "code",
   "execution_count": null,
   "metadata": {},
   "outputs": [],
   "source": [
    "for counter in range(10, 20, 2):\n",
    "    print(counter)"
   ]
  },
  {
   "cell_type": "code",
   "execution_count": null,
   "metadata": {},
   "outputs": [],
   "source": [
    "for counter in range(20, 10, -2):\n",
    "    print(counter)"
   ]
  },
  {
   "cell_type": "markdown",
   "metadata": {},
   "source": [
    "For loop to interate over the characters in a strings:"
   ]
  },
  {
   "cell_type": "code",
   "execution_count": null,
   "metadata": {},
   "outputs": [],
   "source": [
    "for f in \"apple\":\n",
    "    print(f)"
   ]
  },
  {
   "cell_type": "markdown",
   "metadata": {},
   "source": [
    "For loop to interate over a list of strings:"
   ]
  },
  {
   "cell_type": "code",
   "execution_count": null,
   "metadata": {},
   "outputs": [],
   "source": [
    "fruits = [\"apple\", \"pear\", \"banana\"]\n",
    "for f in fruits:\n",
    "    print(f)"
   ]
  },
  {
   "cell_type": "markdown",
   "metadata": {},
   "source": [
    "A for loop with the \"enumerate\" keyword will iterate over each element in the sequence, and return the index of the current element: "
   ]
  },
  {
   "cell_type": "code",
   "execution_count": null,
   "metadata": {},
   "outputs": [],
   "source": [
    "fruits = [\"apple\", \"pear\", \"banana\"]\n",
    "for index, f in enumerate(fruits):\n",
    "    print(index, f)"
   ]
  },
  {
   "cell_type": "markdown",
   "metadata": {},
   "source": [
    "<h2> Loop Control Statements\n",
    "\n",
    "\"break\": Exit the loop immediately\n",
    "\n",
    "\"continue\": End this iteration of the loop imediately, but continue with the next iteration\n"
   ]
  },
  {
   "cell_type": "code",
   "execution_count": null,
   "metadata": {},
   "outputs": [],
   "source": [
    "for counter in range(10):\n",
    "    if counter-4 < 0:\n",
    "        continue\n",
    "        \n",
    "    print(counter)\n",
    "    \n",
    "    if counter == 7:\n",
    "        break"
   ]
  },
  {
   "cell_type": "markdown",
   "metadata": {},
   "source": [
    "<h3> Nested Loops </h3>\n",
    "You can use one or more loops inside any another while, or for loop."
   ]
  },
  {
   "cell_type": "code",
   "execution_count": null,
   "metadata": {},
   "outputs": [],
   "source": [
    "for outer in range(2):\n",
    "    for inner in range(3):\n",
    "        print(outer, inner)"
   ]
  },
  {
   "cell_type": "markdown",
   "metadata": {},
   "source": [
    "<h3>List Comprehensions </h3>\n",
    "For specific types of iterations it may be easier, and mre compact to use what is called a List Comprehension. In general a List Comprehension will perform some iteration and simply store the outputs as a list, for basic iterations this can result in compact simple to read code."
   ]
  },
  {
   "cell_type": "code",
   "execution_count": null,
   "metadata": {},
   "outputs": [],
   "source": [
    "#Basic for loop way or creating a list\n",
    "new_list = []\n",
    "for i in range(10):\n",
    "    new_list.append(i * 10)\n",
    "print(new_list)\n",
    "\n",
    "#Same thing, but using a List Comprehension structure\n",
    "#Inside the square brackets we have the general structure of the List Comprehension\n",
    "# \"value to return\" for i in \"iterator\"\n",
    "new_list = [i * 10 for i in range(10)]\n",
    "print(new_list)"
   ]
  },
  {
   "cell_type": "markdown",
   "metadata": {},
   "source": [
    "<h2> 4. Functions </h2>\n",
    "\n",
    "A function is a block of code that runs when it is called. Functions are created using the \"def\" keyword."
   ]
  },
  {
   "cell_type": "code",
   "execution_count": null,
   "metadata": {},
   "outputs": [],
   "source": [
    "def print_function():\n",
    "    print(\"Printing inside a function!\")"
   ]
  },
  {
   "cell_type": "markdown",
   "metadata": {},
   "source": [
    "A function is called by using the function name with paranthesis:"
   ]
  },
  {
   "cell_type": "code",
   "execution_count": null,
   "metadata": {},
   "outputs": [],
   "source": [
    "print_function()"
   ]
  },
  {
   "cell_type": "markdown",
   "metadata": {},
   "source": [
    "<h3> Arguments </h3>\n",
    "\n",
    "Information (such as values, lists, tuples, dicts etc.) can be passed to a function as arguments:"
   ]
  },
  {
   "cell_type": "code",
   "execution_count": null,
   "metadata": {},
   "outputs": [],
   "source": [
    "def cool_function(arg):\n",
    "    print(arg)\n",
    "    \n",
    "cool_function(4)\n",
    "cool_function([1,2,3,4])\n",
    "cool_function(\"Hi there!\")"
   ]
  },
  {
   "cell_type": "markdown",
   "metadata": {},
   "source": [
    "We can pass several arguments:"
   ]
  },
  {
   "cell_type": "code",
   "execution_count": null,
   "metadata": {},
   "outputs": [],
   "source": [
    "def multiply(a,b):\n",
    "    print(a*b)\n",
    "\n",
    "multiply(3,5)"
   ]
  },
  {
   "cell_type": "markdown",
   "metadata": {},
   "source": [
    "We can also assign default values to arguments, so the user doesn't need to provide them if they don't want to. Below, the argument denominator wil be assigned the value 10, unless it is overriden in the function call:"
   ]
  },
  {
   "cell_type": "code",
   "execution_count": null,
   "metadata": {},
   "outputs": [],
   "source": [
    "def divide(numerator, denominator = 10):\n",
    "    print(numerator/denominator)\n",
    "    \n",
    "divide(300)\n",
    "divide(300, 5)"
   ]
  },
  {
   "cell_type": "markdown",
   "metadata": {},
   "source": [
    "We can also provide arguments to a function using keywords - that way we don't need to have them in the correct order:"
   ]
  },
  {
   "cell_type": "code",
   "execution_count": null,
   "metadata": {},
   "outputs": [],
   "source": [
    "divide(5, 300) #5/300\n",
    "divide(denominator=5, numerator=300) #300/5"
   ]
  },
  {
   "cell_type": "markdown",
   "metadata": {},
   "source": [
    "<h3> Return Values </h3>\n",
    "\n",
    "A function can return information to the main program via the \"return\" keyword:"
   ]
  },
  {
   "cell_type": "code",
   "execution_count": null,
   "metadata": {},
   "outputs": [],
   "source": [
    "def another_function(x):\n",
    "    return x*3\n",
    "\n",
    "output = another_function(5)\n",
    "print(output)"
   ]
  },
  {
   "cell_type": "markdown",
   "metadata": {},
   "source": [
    "We can also return multipe values too! (or tuples or lists or dictionaries or strings or...):"
   ]
  },
  {
   "cell_type": "code",
   "execution_count": null,
   "metadata": {},
   "outputs": [],
   "source": [
    "def div_remainer(a,b):\n",
    "    quotient = a//b # // is integer division \n",
    "    remainder = a%b # % is the modulus operator - the remainder left over after integer division\n",
    "    return quotient, remainder\n",
    "\n",
    "x,y = div_remainer(114,10)\n",
    "print(\"Quotient: \", x, \", Remainder \", y)"
   ]
  },
  {
   "cell_type": "markdown",
   "metadata": {},
   "source": [
    "<h3> Scope of Variables </h3>\n",
    "\n",
    "The scope of a variable determines where in the code a variable can be accessed. Variables can have either global or local scope.\n",
    "\n",
    "Global variables: variables declared outside of a function can be accessed anywhere in the program.\n",
    "\n",
    "Local variables: variables created inside are function can only be accessed in that function."
   ]
  },
  {
   "cell_type": "code",
   "execution_count": null,
   "metadata": {},
   "outputs": [],
   "source": [
    "variable1 = 200 #Global\n",
    "\n",
    "def func():\n",
    "    print(\"Inside function\", variable1) #Can print this because it is global\n",
    "    variable2 = 5 #Local to this function\n",
    "    print(\"Inside function\", variable2) #Can print the local variable becauseit is local to this function\n",
    "    \n",
    "print(\"Outside function\", variable1) #Can print this because it is global\n",
    "func() #Call function\n",
    "print(\"Outside function\", variable2) #Uh oh! This causes an error - variable2 is local to the function and cannot be accessed outside of it"
   ]
  },
  {
   "cell_type": "markdown",
   "metadata": {},
   "source": [
    "If we wanted local variables to available globally, we could return them from the function using \"return\"."
   ]
  },
  {
   "cell_type": "markdown",
   "metadata": {},
   "source": [
    "<h3>Creating an \"iterator\" </h3>\n",
    "We have already seen how we can iterate over a list/tuple/string this is because these data types have iterators associated with them, we can create a function that also acts as an iterator. Here we can think of the \"yield\" keyword returning i*b for every step of the loop."
   ]
  },
  {
   "cell_type": "code",
   "execution_count": null,
   "metadata": {},
   "outputs": [],
   "source": [
    "def iter_func(a, b):\n",
    "    for i in range(a):\n",
    "        yield i*b\n",
    "\n",
    "for i in iter_func(10, 2):\n",
    "    print(i + 5)"
   ]
  },
  {
   "cell_type": "markdown",
   "metadata": {},
   "source": [
    "What we have actally done here is create what is called a \"Generator\" which are known as \"lazy iterators\" as the contents/variables are not stored in memory and are simply returned at the time of enumeration (unlike lists that actually store values). They are often used for things like creating functions that read files, where you don't want to store the entire file in memory (RAM) and then process it but simply return, and process, a line at a time.<br><br>\n",
    "We can also use a method very similar to List Comprehensions to create a Generator, the benefit here is, again, that each step is only evaluated at the time of iteration, unlike if we had used an actual List Comprehension to create a list (which would be stored in RAM) and then iterated over it."
   ]
  },
  {
   "cell_type": "code",
   "execution_count": null,
   "metadata": {},
   "outputs": [],
   "source": [
    "a = 10\n",
    "b = 2\n",
    "\n",
    "#Here the square brackets of a List Comprehension are replaced with round ones!\n",
    "iter_func = (num * b for num in range(a))\n",
    "\n",
    "for i in iter_func:\n",
    "    print(i + 5)"
   ]
  },
  {
   "cell_type": "markdown",
   "metadata": {},
   "source": [
    "<h2> 5.Classes/Objects </h2>\n",
    "Python is an object oriented programming language.\n",
    "\n",
    "Almost everything in Python is an object each with its own properties and methods. It is therefore very important you get familiar with what they are and how they work.\n",
    "\n",
    "A Class is like an object constructor, or a \"blueprint\" for creating objects."
   ]
  },
  {
   "cell_type": "markdown",
   "metadata": {},
   "source": [
    "<h3> Create a class </h3>\n",
    "To create a class constructor, use the keyword class: <br>\n",
    "Create a class named MyClass, with a property named x:"
   ]
  },
  {
   "cell_type": "code",
   "execution_count": null,
   "metadata": {},
   "outputs": [],
   "source": [
    "class MyClass:\n",
    "    x = 5"
   ]
  },
  {
   "cell_type": "markdown",
   "metadata": {},
   "source": [
    "<h3> Create Object </h3>\n",
    "\n",
    "Now we can use the class named MyClass to create an instance of the object: <br>\n",
    "Create an object named p1, and print the value of x:"
   ]
  },
  {
   "cell_type": "code",
   "execution_count": null,
   "metadata": {},
   "outputs": [],
   "source": [
    "p1 = MyClass()\n",
    "print(p1.x) "
   ]
  },
  {
   "cell_type": "markdown",
   "metadata": {},
   "source": [
    "<h3> The __init__() Function </h3>\n",
    "\n",
    "The examples above are classes and objects in their simplest form, and are not really useful in real life applications.\n",
    "\n",
    "To understand the meaning of classes we have to understand the built-in __init__() function.\n",
    "\n",
    "All classes have a function called __init__(), which is always executed when the class is being initiated.\n",
    "\n",
    "Use the __init__() function to assign values to object properties, or other operations that are necessary to do when the object is being created:"
   ]
  },
  {
   "cell_type": "markdown",
   "metadata": {},
   "source": [
    "<h3> Example </h3>\n",
    "\n",
    "Create a class named Person, use the __init__() function to assign values for name and age:"
   ]
  },
  {
   "cell_type": "code",
   "execution_count": null,
   "metadata": {},
   "outputs": [],
   "source": [
    "class Person:\n",
    "    def __init__(self, name, age):\n",
    "        self.name = name\n",
    "        self.age = age\n",
    "\n",
    "p1 = Person(\"John\", 36)\n",
    "\n",
    "print(p1.name)\n",
    "print(p1.age)"
   ]
  },
  {
   "cell_type": "markdown",
   "metadata": {},
   "source": [
    "The self parameter is a reference to the current instance of the class, and is used to access variables and methods that belongs to the class. It also has to be the first parameter of any function in the class.\n",
    "\n",
    "<b>NOTE: The __init__() function is called automatically every time the class is being used to create a new object.</b>"
   ]
  },
  {
   "cell_type": "markdown",
   "metadata": {},
   "source": [
    "<h3> Namespaces within a Class </h3>\n",
    "We've seen a few ways to create a variable within a class, now lets get familar with namespaces within a class object and see when we can reference variables we've created"
   ]
  },
  {
   "cell_type": "code",
   "execution_count": null,
   "metadata": {},
   "outputs": [],
   "source": [
    "class Person:\n",
    "    x = 5\n",
    "    def __init__(self, name, age):\n",
    "        self.name = name\n",
    "        self.age = age\n",
    "        counter = 1\n",
    "        self.x += 1 \n",
    "\n",
    "p1 = Person(\"John\", 36)\n",
    "\n",
    "print(p1.name)\n",
    "print(p1.age)\n",
    "print(p1.x)\n",
    "print(p1.counter)"
   ]
  },
  {
   "cell_type": "markdown",
   "metadata": {},
   "source": [
    "As we can se here counter is a local variable within __init__ and cannot be referenced outside of this function"
   ]
  },
  {
   "cell_type": "markdown",
   "metadata": {},
   "source": [
    "<h3> Object Methods </h3>\n",
    "\n",
    "Objects can also contain methods. Methods in objects are functions that belong to the object.\n",
    "\n",
    "Let us create a method in the Person class:<br>\n",
    "\n",
    "<b> Example </b><br>\n",
    "Insert a function that prints a greeting, and execute it on the p1 object:"
   ]
  },
  {
   "cell_type": "code",
   "execution_count": null,
   "metadata": {},
   "outputs": [],
   "source": [
    "class Person:\n",
    "    x = 5\n",
    "    def __init__(self, name, age):\n",
    "        self.name = name\n",
    "        self.age = age\n",
    "\n",
    "    def myfunc(self):\n",
    "        print(\"Hello my name is \" + self.name + \" and I am \" + str(self.age) + \" years old\")\n",
    "\n",
    "p1 = Person(\"John\", 36)\n",
    "p1.myfunc() \n",
    "\n",
    "#Note in Python str() wil convert a variable to a string without \n",
    "# any of the weird conversion issues (most of the time)"
   ]
  },
  {
   "cell_type": "markdown",
   "metadata": {},
   "source": [
    "<h3> Modify Object Properties </h3>\n",
    "\n",
    "You can modify properties on objects like this:\n",
    "Set the age of p1 to 40:"
   ]
  },
  {
   "cell_type": "code",
   "execution_count": null,
   "metadata": {},
   "outputs": [],
   "source": [
    "p1.age = 40\n",
    "p1.myfunc() "
   ]
  },
  {
   "cell_type": "markdown",
   "metadata": {},
   "source": [
    "<h3> Basics of Class Inheritance </h3>\n",
    "Inheritance is the process of creating a NEW class type from an existing one. In this process the new class type inherits methods and variable from the first one. To inherit the properties of an old class is pretty straight forward."
   ]
  },
  {
   "cell_type": "code",
   "execution_count": null,
   "metadata": {},
   "outputs": [],
   "source": [
    "#Create a new class which simply inherits the old one\n",
    "\n",
    "class CoolPerson(Person):\n",
    "    def __init__(self, name, age):\n",
    "        super().__init__(name, age)\n",
    "\n",
    "sp1 = CoolPerson(\"John\", 36)\n",
    "sp1.myfunc() \n",
    "sp1.x #Any class variables created will also be inherited"
   ]
  },
  {
   "cell_type": "markdown",
   "metadata": {},
   "source": [
    "In this example \"Person\" (the class we are inheriting from) is know as the superclass and CoolPerson (the class doing the inheriting) is known as the subclass. <br>\n",
    "Within the __init__ function \"super()\" is being used access the methods of the superclass within the subclass, so we are using the __init__ function of the superclass to initialise the subclass. Once we have created an instance of the subclass we do not need to use \"super()\". As we can see, even though we did not explicitly create the class method \"myfunc()\" we have inherited it from the superclass. <br><br>\n",
    "As we can see in the next example, it is also possible to simply create a new __init__ function (or any other method with the same name as a method in the superclass), this new method will now be used instead of the one inherited from the superclass."
   ]
  },
  {
   "cell_type": "code",
   "execution_count": null,
   "metadata": {},
   "outputs": [],
   "source": [
    "class CoolPerson(Person):\n",
    "    def __init__(self, name, last_name, age):\n",
    "        self.name = name\n",
    "        self.last_name = name\n",
    "        self.age = age\n",
    "\n",
    "sp1 = CoolPerson(\"John\", \"Smith\", 36)\n",
    "sp1.myfunc() \n",
    "sp1.x"
   ]
  },
  {
   "cell_type": "markdown",
   "metadata": {},
   "source": [
    "<h3>Other class inbuilt Methods</h3>\n",
    "__init__ is not the only inbuilt class function that we can define, here we will look at two others, __len__ and __iter__.<br>\n",
    "__len__ allows us to use the inbuilt len() function on our class and simply defines what should be returned by this function.<br>\n",
    "__iter__ allows to define some iteration method for our class that will be used when we use somthing like a for loop on our class, this method can be created similar to the generator objects we have already seen"
   ]
  },
  {
   "cell_type": "code",
   "execution_count": null,
   "metadata": {},
   "outputs": [],
   "source": [
    "#Very basic Mark keeping class\n",
    "class Marks:\n",
    "    max_mark = 90\n",
    "    def __init__(self, num_students, raw_marks):\n",
    "        self.number_of_students = num_students\n",
    "        self.raw_students_marks = raw_marks\n",
    "        \n",
    "        #raise will give a warning and tell Python to stop running the code\n",
    "        if len(self.raw_students_marks) != self.number_of_students:\n",
    "            raise ValueError(\"The number of students defined does not equal the numer of marks given\")\n",
    "        \n",
    "    def __len__(self):\n",
    "        return self.number_of_students\n",
    "    \n",
    "    def __iter__(self):\n",
    "        #return a generator object that will calculate the percentage for each mark\n",
    "        return ((mark / self.max_mark) * 100 for mark in self.raw_students_marks)\n",
    "\n",
    "marks = Marks(6, [50, 32, 61, 75, 83, 32])\n",
    "\n",
    "#Using len() on our class will return the ouput from the __len__ method\n",
    "print(\"Number of students\", len(marks))\n",
    "\n",
    "#We can simply iterate over our class as we have defined an __iter__ method\n",
    "for i, mark in enumerate(marks):\n",
    "    print(\"Student %d mark percentage %.2f\" %(i, mark))"
   ]
  },
  {
   "cell_type": "markdown",
   "metadata": {},
   "source": [
    "Now that you know how to create and use classes you can (hopefully) see how usefull they are and how everything can be done by creating and using classes and having them interact with each other!"
   ]
  },
  {
   "cell_type": "code",
   "execution_count": null,
   "metadata": {},
   "outputs": [],
   "source": []
  }
 ],
 "metadata": {
  "kernelspec": {
   "display_name": "Python 3",
   "language": "python",
   "name": "python3"
  },
  "language_info": {
   "codemirror_mode": {
    "name": "ipython",
    "version": 3
   },
   "file_extension": ".py",
   "mimetype": "text/x-python",
   "name": "python",
   "nbconvert_exporter": "python",
   "pygments_lexer": "ipython3",
   "version": "3.6.3"
  }
 },
 "nbformat": 4,
 "nbformat_minor": 2
}
