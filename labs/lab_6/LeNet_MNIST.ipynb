{
 "cells": [
  {
   "cell_type": "markdown",
   "metadata": {},
   "source": [
    "<h1>Convolutional Neural Networks</h1>\n",
    "<br>\n",
    "<img src=\"https://miro.medium.com/max/2000/1*1TI1aGBZ4dybR6__DI9dzA.png\" width=\"900\" align=\"center\">\n",
    "\n",
    "<br><br>\n",
    "In this lab we will be constructing and training a \"Convolutional Neural Network\" aka a neural network that contains convolution kernels with learnable parameters.<br>\n",
    "We are also going to learn a bit more about Pytorch transforms and how to create save \"checkpoints\" for our model!"
   ]
  },
  {
   "cell_type": "code",
   "execution_count": null,
   "metadata": {},
   "outputs": [],
   "source": [
    "import torch\n",
    "import torch.nn as nn\n",
    "import torch.nn.functional as F\n",
    "import torch.optim as optim\n",
    "import torchvision\n",
    "import torchvision.transforms as transforms\n",
    "import torchvision.datasets as datasets\n",
    "import torch.utils.data.dataloader as dataloader\n",
    "import os\n",
    "import random\n",
    "import numpy as np\n",
    "import matplotlib.pyplot as plt\n",
    "from IPython.display import clear_output"
   ]
  },
  {
   "cell_type": "code",
   "execution_count": null,
   "metadata": {},
   "outputs": [],
   "source": [
    "#the size of our mini batches\n",
    "batch_size     = 64\n",
    "#How many itterations of our dataset\n",
    "num_epochs     = 5\n",
    "#optimizer learning rate\n",
    "learning_rate  = 1e-4\n",
    "#initialise what epoch we start from\n",
    "start_epoch    = 0\n",
    "#initialise best valid accuracy \n",
    "best_valid_acc = 0\n",
    "#where to load/save the dataset from \n",
    "data_set_root = \"data\"\n",
    "\n",
    "#start from a checkpoint or start from scratch?\n",
    "start_from_checkpoint = False\n",
    "#A directory to save our model to (will create it if it doesn't exist)\n",
    "save_dir = 'Models'\n",
    "#A name for our model!\n",
    "model_name = 'LeNet5_MNIST'"
   ]
  },
  {
   "cell_type": "code",
   "execution_count": null,
   "metadata": {},
   "outputs": [],
   "source": [
    "#Set device to GPU_indx if GPU is avaliable\n",
    "GPU_indx = 0\n",
    "device = torch.device(GPU_indx if torch.cuda.is_available() else 'cpu')"
   ]
  },
  {
   "cell_type": "markdown",
   "metadata": {},
   "source": [
    "<h3> Create a transform for the input data </h3>\n",
    "As we have seen, we often wish to perform some operations on data before we pass it through our model. Such operations could be, cropping or resizing images, affine transforms and data normalizations. Pytorch's torchvision module has a large number of such \"transforms\" which can be strung together sequentially using the \"Compose\" function. <br>\n",
    "\n",
    "Pytorch's inbuilt datasets take a transform as an input and will apply this transform to the data before passing it to you! This makes preprocessing data really easy! We will see more about data preprocessing in a later lab!\n",
    "\n",
    "[torchvision.transforms](https://pytorch.org/docs/stable/torchvision/transforms.html)"
   ]
  },
  {
   "cell_type": "code",
   "execution_count": null,
   "metadata": {},
   "outputs": [],
   "source": [
    "#Prepare a composition of transforms\n",
    "#transforms.Compose will perform the transforms in order\n",
    "#NOTE: some transform only take in a PIL image, others only a Tensor\n",
    "#EG Resize and ToTensor take in a PIL Image, Normalize takes in a Tensor\n",
    "#Refer to documentation\n",
    "transform = transforms.Compose([\n",
    "            transforms.Resize(32),\n",
    "            transforms.ToTensor(),\n",
    "            transforms.Normalize([0.1307], [0.308])])\n",
    "\n",
    "#Note: ToTensor() will scale unit8 and similar type data to a float and re-scale to 0-1\n",
    "#Note: We are normalizing with the dataset mean and std "
   ]
  },
  {
   "cell_type": "markdown",
   "metadata": {},
   "source": [
    "<h3> Create the training, testing and validation data</h3>\n",
    "When training many machine learning systems it is best practice to have our TOTAL dataset split into three segments, the training set, testing set and validation set. Up until now we have only had a train/test set split and have used the test set to gauge the performance during training. Though for the most \"unbiased\" results we should really not use our test set until training is done! So if we want to evaluate our model on an \"unseen\" part of the dataset we need another split - the validation set. <br><br>\n",
    "<b>Training set</b>   - the data we train our model on<br>\n",
    "<b>Validation set</b> - the data we use to gauge model performance during training<br>\n",
    "<b>Testing set</b>   - the data we use to \"rate\" our trained model<br>"
   ]
  },
  {
   "cell_type": "code",
   "execution_count": null,
   "metadata": {},
   "outputs": [],
   "source": [
    "#Define our MNIST Datasets\n",
    "#Can also try with CIFAR10 Dataset\n",
    "#https://pytorch.org/docs/stable/torchvision/datasets.html#mnist\n",
    "train_data = ########Fill out#########\n",
    "test_data  = ########Fill out#########\n",
    "\n",
    "#We are going to split the test dataset into a train and validation set 90%/10%\n",
    "validation_split = 0.9\n",
    "\n",
    "#Determine the number of samples for each split\n",
    "n_train_examples = int(len(train_data)*validation_split)\n",
    "n_valid_examples = len(train_data) - n_train_examples\n",
    "\n",
    "#The function random_split will take our dataset and split it randomly and give us dataset\n",
    "#that are the sizes we gave it\n",
    "#Note: we can split it into to more then two pieces!\n",
    "train_data, valid_data = torch.utils.data.random_split(train_data, [n_train_examples, n_valid_examples],\n",
    "                                                       generator=torch.Generator().manual_seed(42))\n",
    "\n",
    "#IMPORTANT TO KNOW!!!!!!!!!\n",
    "#Here we pass the random_split function a manual seed, this is very important as if we did not do this then \n",
    "#everytime we randomly split our training and validation set we would get different splits!!!\n",
    "#For example if we saved our model and reloaded it in the future to train some more, the dataset that we now use to\n",
    "#train with will undoubtably contain datapoints that WERE in the validation set initially!!\n",
    "#Our model would therefore be trained with both validation and training data -- very bad!!!\n",
    "#Setting the manual seed to the same value everytime prevents this!"
   ]
  },
  {
   "cell_type": "markdown",
   "metadata": {},
   "source": [
    "<h3> Check the lengths of all the datasets</h3>"
   ]
  },
  {
   "cell_type": "code",
   "execution_count": null,
   "metadata": {},
   "outputs": [],
   "source": [
    "print(f'Number of training examples: {len(train_data)}')\n",
    "print(f'Number of validation examples: {len(valid_data)}')\n",
    "print(f'Number of testing examples: {len(test_data)}')"
   ]
  },
  {
   "cell_type": "markdown",
   "metadata": {},
   "source": [
    "<h3> Create the dataloader</h3>"
   ]
  },
  {
   "cell_type": "code",
   "execution_count": null,
   "metadata": {},
   "outputs": [],
   "source": [
    "#Create the training, Validation and Evaluation/Test Datasets\n",
    "#It is best practice to separate your data into these three Datasets\n",
    "#Though depending on your task you may only need Training + Evaluation/Test or maybe only a Training set\n",
    "#(It also depends on how much data you have)\n",
    "#https://pytorch.org/docs/stable/data.html#torch.utils.data.Dataloader\n",
    "train_loader =  ########Fill out#########\n",
    "valid_loader =  ########Fill out#########\n",
    "test_loader  =  ########Fill out#########"
   ]
  },
  {
   "cell_type": "markdown",
   "metadata": {},
   "source": [
    "<h2> Create the LeNet5 network</h2>\n",
    "LeNet5 is a \"classic\" old convolution neural network (one of the oldest dating back to 1998) we will be creating an implementation of it here! It uses both convolutional layers and linear layers to \"learn\" features of the image and perform the classification. It also uses \"Max Pooling\" to downsample the \"feature maps\" (the 2d hidden layers at the output of a convolutional layer, in the image at the top of the notebook they are called \"Subsampling\" layers)\n",
    "\n",
    "[Max Pooling](https://pytorch.org/docs/stable/generated/torch.nn.MaxPool2d.html)"
   ]
  },
  {
   "cell_type": "code",
   "execution_count": null,
   "metadata": {},
   "outputs": [],
   "source": [
    "class LeNet(nn.Module):\n",
    "    def __init__(self, channels_in):\n",
    "        #Call the __init__ function of the parent nn.module class\n",
    "        super(LeNet, self).__init__()\n",
    "        #Define 2 Convolution Layers\n",
    "        \n",
    "        #conv1 kernel shape - 6xchannels_inx5x5 \n",
    "        ########Fill out#########\n",
    "        \n",
    "        #conv2 kernel shape - 16x6x5x5\n",
    "        ########Fill out#########\n",
    "        \n",
    "        #Define MaxPooling Layers\n",
    "        #https://computersciencewiki.org/index.php/Max-pooling_/_Pooling\n",
    "        #Default Stride is = to kernel_size\n",
    "        #NOTE: You only need to create ONE maxpooling layer \n",
    "        #You can use the SAME maxpooling layer multiple times in your forward pass\n",
    "        ########Fill out#########\n",
    "        \n",
    "        #Define 3 Linear/Fully connected/Dense Layers\n",
    "        #Input to linear1 is the number of features from previous conv - 16x5x5\n",
    "        #output of linear1 is 120\n",
    "        ########Fill out#########\n",
    "        \n",
    "        #output of linear2 is 84\n",
    "        ########Fill out#########\n",
    "        \n",
    "        #output of linear3 is 10\n",
    "        ########Fill out#########\n",
    "            \n",
    "    def forward(self, x):\n",
    "        #Pass input through conv layers\n",
    "        #input shape is BatchSize-3-32-32\n",
    "        \n",
    "        #Conv then F.relu()  ########Fill out#########\n",
    "        #output shape is BatchSize-6-28-28\n",
    "        \n",
    "        #maxpool  ########Fill out#########\n",
    "        #output shape is BatchSize-6-14-14\n",
    "\n",
    "        #Conv then F.relu()  ########Fill out#########\n",
    "        #output shape is BatchSize-16-10-10\n",
    "        \n",
    "        #maxpool  ########Fill out#########\n",
    "        #output shape is BatchSize-16-5-5\n",
    "\n",
    "        #Flatten output to shape BatchSize-16x5x5\n",
    "        ########Fill out#########\n",
    "        \n",
    "        #linear then F.relu()  ########Fill out#########\n",
    "        #output shape is BatchSize-120\n",
    "        \n",
    "        #linear then F.relu()  ########Fill out#########\n",
    "        #output shape is BatchSize-84\n",
    "        \n",
    "        #linear to output  ########Fill out#########\n",
    "        #output shape is BatchSize-10\n",
    "        return out5"
   ]
  },
  {
   "cell_type": "markdown",
   "metadata": {},
   "source": [
    "<h3> Create our model and view the ouput! </h3>"
   ]
  },
  {
   "cell_type": "code",
   "execution_count": null,
   "metadata": {},
   "outputs": [],
   "source": [
    "#create a dataloader itterable object\n",
    "dataiter = iter(train_loader)\n",
    "#sample from the itterable object\n",
    "images, labels = dataiter.next()"
   ]
  },
  {
   "cell_type": "code",
   "execution_count": null,
   "metadata": {},
   "outputs": [],
   "source": [
    "#create an instance of our network\n",
    "#set channels_in to the number of channels of the dataset images\n",
    "net =  ########Fill out#########\n",
    "#view the network\n",
    "print(net)"
   ]
  },
  {
   "cell_type": "code",
   "execution_count": null,
   "metadata": {},
   "outputs": [],
   "source": [
    "#pass image through network\n",
    "out =  ########Fill out#########\n",
    "#check output!\n",
    "out.shape"
   ]
  },
  {
   "cell_type": "markdown",
   "metadata": {},
   "source": [
    "<h3> Set up the optimizer </h3>"
   ]
  },
  {
   "cell_type": "code",
   "execution_count": null,
   "metadata": {},
   "outputs": [],
   "source": [
    "#Pass our network parameters to the optimiser set our lr as the learning_rate\n",
    "#Use the Adam optimizer!\n",
    "#https://pytorch.org/docs/stable/optim.html#torch.optim.Adam\n",
    "optimizer = ########Fill out#########"
   ]
  },
  {
   "cell_type": "code",
   "execution_count": null,
   "metadata": {},
   "outputs": [],
   "source": [
    "#Define a Cross Entropy Loss\n",
    "#https://pytorch.org/docs/stable/nn.html#torch.nn.CrossEntropyLoss\n",
    "########Fill out#########"
   ]
  },
  {
   "cell_type": "markdown",
   "metadata": {},
   "source": [
    "<h3> Loading Checkpoints</h3>\n",
    "This bit of code will load the parameters of a model and a optimizer from file if start_from_checkpoint == True. Saving your model parameters during training is a good idea!"
   ]
  },
  {
   "cell_type": "code",
   "execution_count": null,
   "metadata": {},
   "outputs": [],
   "source": [
    "#Create Save Path from save_dir and model_name, we will save and load our checkpoint here\n",
    "save_path = os.path.join(save_dir, model_name + \".pt\")\n",
    "\n",
    "#Create the save directory if it does note exist\n",
    "if not os.path.isdir(save_dir):\n",
    "    os.makedirs(save_dir)\n",
    "\n",
    "#Load Checkpoint\n",
    "if start_from_checkpoint:\n",
    "    #Check if checkpoint exists\n",
    "    if os.path.isfile(save_path):\n",
    "        #load Checkpoint\n",
    "        check_point = torch.load(save_path)\n",
    "        #Checkpoint is saved as a python dictionary\n",
    "        #https://www.w3schools.com/python/python_dictionaries.asp\n",
    "        #here we unpack the dictionary to get our previous training states\n",
    "        net.load_state_dict(check_point['model_state_dict'])\n",
    "        optimizer.load_state_dict(check_point['optimizer_state_dict'])\n",
    "        start_epoch = check_point['epoch']\n",
    "        best_valid_acc = check_point['valid_acc']\n",
    "        print(\"Checkpoint loaded, starting from epoch:\", start_epoch)\n",
    "    else:\n",
    "        #Raise Error if it does not exist\n",
    "        raise ValueError(\"Checkpoint Does not exist\")\n",
    "else:\n",
    "    #If checkpoint does exist and Start_From_Checkpoint = False\n",
    "    #Raise an error to prevent accidental overwriting\n",
    "    if os.path.isfile(save_path):\n",
    "        raise ValueError(\"Warning Checkpoint exists\")\n",
    "    else:\n",
    "        print(\"Starting from scratch\")"
   ]
  },
  {
   "cell_type": "markdown",
   "metadata": {},
   "source": [
    "# Define the training process"
   ]
  },
  {
   "cell_type": "code",
   "execution_count": null,
   "metadata": {},
   "outputs": [],
   "source": [
    "#This function should perform a single training epoch using our training data\n",
    "def train(net, device, loader, optimizer, loss_fun, loss_logger):\n",
    "    \n",
    "    #Set Network in train mode\n",
    "    net.train()\n",
    "    \n",
    "    #Perform a single epoch of training on the input dataloader, logging the loss at every step \n",
    "    ########Fill out#########\n",
    "        \n",
    "    #return the logger array       \n",
    "    return loss_logger"
   ]
  },
  {
   "cell_type": "markdown",
   "metadata": {},
   "source": [
    "# Define the testing process"
   ]
  },
  {
   "cell_type": "code",
   "execution_count": null,
   "metadata": {},
   "outputs": [],
   "source": [
    "#This function should perform a single evaluation epoch, it WILL NOT be used to train our model\n",
    "def evaluate(net, device, loader):\n",
    "    \n",
    "    #initialise counter\n",
    "    epoch_acc = 0\n",
    "    \n",
    "    #Set network in evaluation mode\n",
    "    #Layers like Dropout will be disabled\n",
    "    #Layers like Batchnorm will stop calculating running mean and standard deviation\n",
    "    #and use current stored values\n",
    "    #(More on these layer types soon!)\n",
    "    net.eval()\n",
    "    \n",
    "    #Perform a single epoch of evaluation and return the accuracy of the model on the input dataloader\n",
    "    ########Fill out#########\n",
    "            \n",
    "    #return the accuracy from the epoch     \n",
    "    return epoch_acc"
   ]
  },
  {
   "cell_type": "markdown",
   "metadata": {},
   "source": [
    "# The training process"
   ]
  },
  {
   "cell_type": "code",
   "execution_count": null,
   "metadata": {},
   "outputs": [],
   "source": [
    "training_loss_logger = []\n",
    "validation_acc_logger = []\n",
    "training_acc_logger = []"
   ]
  },
  {
   "cell_type": "code",
   "execution_count": null,
   "metadata": {},
   "outputs": [],
   "source": [
    "#This cell implements our training loop\n",
    "for epoch in range(start_epoch, num_epochs):\n",
    "    \n",
    "    #call the training function and pass training dataloader etc\n",
    "    ########Fill out#########\n",
    "    \n",
    "    #call the evaluate function and pass the dataloader for both vailidation and training\n",
    "    train_acc = ########Fill out#########\n",
    "    valid_acc = ########Fill out#########\n",
    "    #log the accuracies \n",
    "    ########Fill out#########\n",
    "    ########Fill out#########\n",
    "\n",
    "    #If this model has the highest performace on the validation set \n",
    "    #then save a checkpoint\n",
    "    #{} define a dictionary, each entry of the dictionary is indexed with a string\n",
    "    if (valid_acc > best_valid_acc):\n",
    "        best_valid_acc = valid_acc\n",
    "        print(\"Saving Model\")\n",
    "        torch.save({\n",
    "            'epoch':                 epoch,\n",
    "            'model_state_dict':      net.state_dict(),\n",
    "            'optimizer_state_dict':  optimizer.state_dict(), \n",
    "            'train_acc':             train_acc,\n",
    "            'valid_acc':             valid_acc,\n",
    "        }, save_path)\n",
    "    \n",
    "    clear_output(True)\n",
    "    print(f'| Epoch: {epoch+1:02} | Train Acc: {train_acc*100:05.2f}% | Val. Acc: {valid_acc*100:05.2f}% |')\n",
    "print(\"Training Complete\")"
   ]
  },
  {
   "cell_type": "code",
   "execution_count": null,
   "metadata": {},
   "outputs": [],
   "source": [
    "#plot out the training_loss_logger "
   ]
  },
  {
   "cell_type": "code",
   "execution_count": null,
   "metadata": {},
   "outputs": [],
   "source": [
    "#plot out the validation_acc_logger and  training_acc_logger"
   ]
  },
  {
   "cell_type": "markdown",
   "metadata": {},
   "source": [
    "# Evaluate"
   ]
  },
  {
   "cell_type": "code",
   "execution_count": null,
   "metadata": {},
   "outputs": [],
   "source": [
    "#call the evaluate function and pass the test dataloader to see how good our model is!\n",
    "########Fill out#########"
   ]
  }
 ],
 "metadata": {
  "kernelspec": {
   "display_name": "Python 3",
   "language": "python",
   "name": "python3"
  },
  "language_info": {
   "codemirror_mode": {
    "name": "ipython",
    "version": 3
   },
   "file_extension": ".py",
   "mimetype": "text/x-python",
   "name": "python",
   "nbconvert_exporter": "python",
   "pygments_lexer": "ipython3",
   "version": "3.6.9"
  }
 },
 "nbformat": 4,
 "nbformat_minor": 2
}
