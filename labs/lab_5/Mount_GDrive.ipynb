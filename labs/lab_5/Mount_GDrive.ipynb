{
 "cells": [
  {
   "cell_type": "code",
   "execution_count": null,
   "metadata": {
    "colab": {},
    "colab_type": "code",
    "id": "PBQ2TLzNbMZR"
   },
   "outputs": [],
   "source": [
    "#First make sure you create new folder on your GDrive called ECE4179\n",
    "import numpy as np"
   ]
  },
  {
   "cell_type": "code",
   "execution_count": null,
   "metadata": {
    "colab": {},
    "colab_type": "code",
    "id": "ByrQPrqAfvKq"
   },
   "outputs": [],
   "source": [
    "#you can install packages you may need this way\n",
    "# !pip3 install torch torchvision\n",
    "#Note pytorch, torchvision and many other packages are already installed on colab"
   ]
  },
  {
   "cell_type": "code",
   "execution_count": null,
   "metadata": {
    "colab": {},
    "colab_type": "code",
    "id": "rR7Ryibqa-6b"
   },
   "outputs": [],
   "source": [
    "from google.colab import drive\n",
    "import sys\n",
    "\n",
    "#Mount your Google drive to the VM\n",
    "drive.mount('/content/gdrive')\n",
    "sys.path.append(\"/content/gdrive/My Drive/ECE4179\")\n",
    "\n",
    "#set a root path variable to use\n",
    "ROOT = \"/content/gdrive/My Drive/ECE4179\"\n",
    "\n",
    "#Follow link and give permission, copy code and paste in text box\n",
    "#You only have to do this once per session"
   ]
  },
  {
   "cell_type": "code",
   "execution_count": null,
   "metadata": {
    "colab": {},
    "colab_type": "code",
    "id": "rtQ8iFAyb4FD"
   },
   "outputs": [],
   "source": [
    "#Create an array of random numbers and save to your GDrive\n",
    "a = np.random.randint(0,10, 1000)\n",
    "np.savetxt(ROOT + \"/data.txt\", a)\n",
    "#Wait a few seconds for the file to appear in your folder"
   ]
  },
  {
   "cell_type": "code",
   "execution_count": null,
   "metadata": {
    "colab": {},
    "colab_type": "code",
    "id": "B9uScOb0g4uC"
   },
   "outputs": [],
   "source": [
    "#you can run normal bash commands too\n",
    "#(here we git clone the pytorch examples repo)\n",
    "!git clone https://github.com/pytorch/examples.git\n",
    "  \n",
    "#You can even move folders/files from the VM to your GDrive and back\n",
    "!mv examples /content/gdrive/My\\ Drive/ECE4179/\n",
    "\n",
    "#note if you edit scripts on your GDrive you need to copy them back to the VM\n",
    "# - not including notebooks running on colab"
   ]
  },
  {
   "cell_type": "code",
   "execution_count": null,
   "metadata": {
    "colab": {},
    "colab_type": "code",
    "id": "bwzI3_qUnrbY"
   },
   "outputs": [],
   "source": [
    "# Pretty much anything you could do with a normal bash command line\n",
    "!cd examples/vae; pip install -r requirements.txt"
   ]
  },
  {
   "cell_type": "code",
   "execution_count": null,
   "metadata": {
    "colab": {},
    "colab_type": "code",
    "id": "fydMXQ4rns77"
   },
   "outputs": [],
   "source": [
    "# You can even just run Python Scripts!!!\n",
    "# Make sure you change to the dirctory first, the bash command always start\n",
    "# from the home directory \n",
    "# - EG !cd examples/vae; python main.py  NOT !python examples/vae/main.py  \n",
    "\n",
    "#(running the pytorch VAE example code)\n",
    "!cd examples/vae; python main.py  "
   ]
  },
  {
   "cell_type": "code",
   "execution_count": null,
   "metadata": {
    "colab": {},
    "colab_type": "code",
    "id": "ESoKBDwColbz"
   },
   "outputs": [],
   "source": [
    "#Get those results!!!\n",
    "!cp -a examples/vae/results/. /content/gdrive/My\\ Drive/ECE4179/examples/vae/results"
   ]
  }
 ],
 "metadata": {
  "accelerator": "GPU",
  "colab": {
   "collapsed_sections": [],
   "name": "Mount_GDrive.ipynb",
   "provenance": [],
   "version": "0.3.2"
  },
  "kernelspec": {
   "display_name": "Python 3",
   "language": "python",
   "name": "python3"
  },
  "language_info": {
   "codemirror_mode": {
    "name": "ipython",
    "version": 3
   },
   "file_extension": ".py",
   "mimetype": "text/x-python",
   "name": "python",
   "nbconvert_exporter": "python",
   "pygments_lexer": "ipython3",
   "version": "3.7.0"
  }
 },
 "nbformat": 4,
 "nbformat_minor": 1
}
