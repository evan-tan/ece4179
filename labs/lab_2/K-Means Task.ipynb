{
 "cells": [
  {
   "cell_type": "markdown",
   "metadata": {
    "tags": []
   },
   "source": [
    "<h1>Kmeans Clustering</h1>\n",
    "<img src=\"K_means.gif\" width=\"1000\" align=\"center\">\n",
    "With our knowledge of Python and now Numpy lets create an implementation of a famous machine learning algorithm \"K-Means Clustering\". The job of a clustering algorithm is to break a dataset into some number of \"clusters\" (groups), the number of clusters usually defined by the user. K-Means clustering works by iteratively updating a pre-defined number of cluster centers. It does this by finding the distance between each datapoint and every cluster center. Datapoints are then assigned to the cluster center they are closest to and each cluster center is updated to be the mean of the new cluster. These steps are repeated for some number of steps or until the cluster centers converge (they stop moving so much).<br>\n",
    "\n",
    "[For more Information on K-means](https://en.wikipedia.org/wiki/K-means_clustering)<br>\n",
    "\n",
    "<b>Lets have a look at the steps of K-means clustering</b><br>\n",
    "1. Define the number of clusters \"k\" you want to group your data into<br>\n",
    "2. Randomly initialise k vectors with the same size as each datapoint, this is the initialisation of our cluster centers<br>\n",
    "3. Calculate the distance between each datapoint and each cluster center (using MSE or equivalent)<br>\n",
    "4. For every datapoint find the cluster center they are closest to<br>\n",
    "5. Re-calculate the cluster centers by finding the mean of every new cluster<br>\n",
    "6. Repeat steps 3-5 for n steps or until convergence"
   ]
  },
  {
   "cell_type": "code",
   "execution_count": 1,
   "metadata": {},
   "outputs": [],
   "source": [
    "%load_ext lab_black"
   ]
  },
  {
   "cell_type": "code",
   "execution_count": 2,
   "metadata": {},
   "outputs": [],
   "source": [
    "import matplotlib.pyplot as plt\n",
    "import numpy as np\n",
    "import time\n",
    "from IPython.display import clear_output\n",
    "\n",
    "# Custom module to deal with downloading the dataset\n",
    "from load import test_x"
   ]
  },
  {
   "cell_type": "markdown",
   "metadata": {},
   "source": [
    "<b>Using the module \"load\" that comes with this notebook, lets load our dataset</b><br>\n",
    "The dataset we'll be using is the MNIST dataset, a dataset of small, low-res handwritten digits. There are 60000 training images and 10000 test images divided up into 10 classes (digits 0-9). Here we will be using the test set (as it's a smaller set)"
   ]
  },
  {
   "cell_type": "code",
   "execution_count": 3,
   "metadata": {},
   "outputs": [],
   "source": [
    "# The images are 8 bit greyscale images (values range from 0-255)\n",
    "# We'll rescale the pixel values to be between 0-1 (We don't REALLY need to do this for k-means)\n",
    "test_x = test_x.astype(float) / 255"
   ]
  },
  {
   "cell_type": "markdown",
   "metadata": {},
   "source": [
    "<b>Lets visualise some data!</b>"
   ]
  },
  {
   "cell_type": "code",
   "execution_count": 4,
   "metadata": {},
   "outputs": [
    {
     "data": {
      "text/plain": [
       "<matplotlib.image.AxesImage at 0x7f6aa0688a30>"
      ]
     },
     "execution_count": 4,
     "metadata": {},
     "output_type": "execute_result"
    },
    {
     "data": {
      "image/png": "[encoded data removed]",
      "text/plain": [
       "<Figure size 432x288 with 1 Axes>"
      ]
     },
     "metadata": {
      "needs_background": "light"
     },
     "output_type": "display_data"
    }
   ],
   "source": [
    "plt.imshow(test_x[0:10].reshape(10, 28, 28).transpose(0, 1, 2).reshape(28, 28 * 10))"
   ]
  },
  {
   "cell_type": "code",
   "execution_count": 5,
   "metadata": {},
   "outputs": [
    {
     "data": {
      "text/plain": [
       "<matplotlib.image.AxesImage at 0x7f6a9fe2ca90>"
      ]
     },
     "execution_count": 5,
     "metadata": {},
     "output_type": "execute_result"
    },
    {
     "data": {
      "image/png": "[encoded data removed]",
      "text/plain": [
       "<Figure size 432x288 with 1 Axes>"
      ]
     },
     "metadata": {
      "needs_background": "light"
     },
     "output_type": "display_data"
    }
   ],
   "source": [
    "rand_img1 = test_x[np.random.randint(0, test_x.shape[0])]\n",
    "plt.imshow(rand_img1.reshape(28, 28))"
   ]
  },
  {
   "cell_type": "code",
   "execution_count": 6,
   "metadata": {},
   "outputs": [
    {
     "data": {
      "text/plain": [
       "<matplotlib.image.AxesImage at 0x7f6a9fd9daf0>"
      ]
     },
     "execution_count": 6,
     "metadata": {},
     "output_type": "execute_result"
    },
    {
     "data": {
      "image/png": "[encoded data removed]",
      "text/plain": [
       "<Figure size 432x288 with 1 Axes>"
      ]
     },
     "metadata": {
      "needs_background": "light"
     },
     "output_type": "display_data"
    }
   ],
   "source": [
    "rand_img2 = test_x[np.random.randint(0, test_x.shape[0])]\n",
    "plt.imshow(rand_img2.reshape(28, 28))"
   ]
  },
  {
   "cell_type": "code",
   "execution_count": 7,
   "metadata": {},
   "outputs": [
    {
     "name": "stdout",
     "output_type": "stream",
     "text": [
      "9.812010780444322\n"
     ]
    }
   ],
   "source": [
    "distance = np.linalg.norm(rand_img1 - rand_img2)\n",
    "print(distance)"
   ]
  },
  {
   "cell_type": "code",
   "execution_count": 8,
   "metadata": {},
   "outputs": [
    {
     "data": {
      "text/plain": [
       "(10000, 784)"
      ]
     },
     "execution_count": 8,
     "metadata": {},
     "output_type": "execute_result"
    }
   ],
   "source": [
    "# 10k images, each is 28 x 28\n",
    "# in this case each datapoint is an image in a sea of images\n",
    "test_x.shape"
   ]
  },
  {
   "cell_type": "code",
   "execution_count": 9,
   "metadata": {},
   "outputs": [
    {
     "data": {
      "text/plain": [
       "(1511219,)"
      ]
     },
     "execution_count": 9,
     "metadata": {},
     "output_type": "execute_result"
    }
   ],
   "source": [
    "test_x[test_x > 0].shape"
   ]
  },
  {
   "cell_type": "markdown",
   "metadata": {
    "tags": []
   },
   "source": [
    "<h3> Kmeans Algorithm </h3>\n",
    "Now implement the main steps of the K-Means clustering algorithm! Try and make it as efficient as possible and minimise the time/iteration, using Numpy functionality you should be able to get it down to only one For loop (do NOT use any K-Means functions!)\n",
    "\n",
    "<b>Lets have a look at the steps of K-means clustering</b><br>\n",
    "1. Define the number of clusters \"k\" you want to group your data into<br>\n",
    "2. Randomly initialise k vectors with the same size as each datapoint, this is the initialisation of our cluster centers<br>\n",
    "3. Calculate the distance between each datapoint and each cluster center (using MSE or equivalent)<br>\n",
    "4. For every datapoint find the cluster center they are closest to<br>\n",
    "5. Re-calculate the cluster centers by finding the mean of every new cluster<br>\n",
    "6. Repeat steps 3-5 for n steps or until convergence"
   ]
  },
  {
   "cell_type": "code",
   "execution_count": 10,
   "metadata": {},
   "outputs": [],
   "source": [
    "# Number of datapoints (images)\n",
    "num_img = test_x.shape[0]\n",
    "# Number of cluster centers, 10 because the dataset contains 10 classes eg: digit 0 to 9\n",
    "num_clusters = 10\n",
    "# We'll perform this many iterations of the algorithm\n",
    "num_iter = 20\n",
    "# Each image is 28*28 pixels, which has been flattened to a 1D 0f 784 values\n",
    "img_flat_dim = test_x.shape[1]"
   ]
  },
  {
   "cell_type": "code",
   "execution_count": 11,
   "metadata": {},
   "outputs": [],
   "source": [
    "# Randomly generate K indices for k datapoints from the dataset (indices need to be int)\n",
    "# initialize clusters\n",
    "indices = np.random.randint(0, test_x.shape[0], num_clusters)\n",
    "means = test_x[indices]\n",
    "# add new dimension\n",
    "data = np.expand_dims(test_x, axis=1)\n",
    "# copy according to number of clusters\n",
    "data = np.repeat(data, num_clusters, axis=1)\n",
    "distances = np.zeros((num_img, num_clusters, img_flat_dim))"
   ]
  },
  {
   "cell_type": "markdown",
   "metadata": {},
   "source": [
    "# Slow"
   ]
  },
  {
   "cell_type": "code",
   "execution_count": 12,
   "metadata": {},
   "outputs": [
    {
     "name": "stdout",
     "output_type": "stream",
     "text": [
      "Iteration [19/20]\n",
      "20 iterations took 24.12 seconds, which corresponds to 1.21s/iteration\n"
     ]
    }
   ],
   "source": [
    "start_time = time.time()\n",
    "cluster_idx = np.zeros(num_img)\n",
    "for i in range(num_iter):\n",
    "    # calculate distance between every image and the initial clusters\n",
    "    for j in range(num_img):\n",
    "        dist_to_clusters = []\n",
    "        for k in range(num_clusters):\n",
    "            dist = np.mean((test_x[j, :] - means[k, :]) ** 2)\n",
    "            dist_to_clusters.append(dist)\n",
    "        # find index of cluster with smallest distance\n",
    "        cluster_idx[j] = np.argmin(dist_to_clusters)\n",
    "    # update cluster positions\n",
    "    for l in range(num_clusters):\n",
    "        count = 0\n",
    "        cluster_sum = 0\n",
    "        for p in range(num_img):\n",
    "            if cluster_idx[p] == l:\n",
    "                count += 1\n",
    "                cluster_sum += test_x[p, :]\n",
    "        if count > 0:\n",
    "            means[l, :] = cluster_sum / count\n",
    "    clear_output(True)\n",
    "    print(\"Iteration [%d/%d]\" % (i, num_iter))\n",
    "\n",
    "end_time = time.time()\n",
    "print(\n",
    "    \"%d iterations took %.2f seconds, which corresponds to %.2fs/iteration\"\n",
    "    % (num_iter, end_time - start_time, (end_time - start_time) / num_iter)\n",
    ")"
   ]
  },
  {
   "cell_type": "code",
   "execution_count": 13,
   "metadata": {},
   "outputs": [
    {
     "data": {
      "text/plain": [
       "<matplotlib.image.AxesImage at 0x7f6a550b4820>"
      ]
     },
     "execution_count": 13,
     "metadata": {},
     "output_type": "execute_result"
    },
    {
     "data": {
      "image/png": "[encoded data removed]",
      "text/plain": [
       "<Figure size 432x288 with 1 Axes>"
      ]
     },
     "metadata": {
      "needs_background": "light"
     },
     "output_type": "display_data"
    }
   ],
   "source": [
    "img = means.reshape(num_clusters * 28, 28)\n",
    "plt.imshow(img)"
   ]
  },
  {
   "cell_type": "markdown",
   "metadata": {},
   "source": [
    "# Fast"
   ]
  },
  {
   "cell_type": "code",
   "execution_count": 14,
   "metadata": {},
   "outputs": [],
   "source": [
    "indices = np.random.randint(0, test_x.shape[0], num_clusters)\n",
    "means = test_x[indices]"
   ]
  },
  {
   "cell_type": "code",
   "execution_count": 19,
   "metadata": {},
   "outputs": [
    {
     "name": "stdout",
     "output_type": "stream",
     "text": [
      "Itteration [19/20]\n",
      "20 iterations took 8.15 seconds, which corresponds to 0.41s/iteration\n"
     ]
    }
   ],
   "source": [
    "start_time = time.time()\n",
    "for i in range(num_iter):\n",
    "    # add on a dimension in the right place and use broadcasting to find the differences\n",
    "    # expanded means has dims (10, 1, 784)\n",
    "    # expanded test_x has dims (1, 10000, 784)\n",
    "    diff_from_means = np.expand_dims(means, 1) - np.expand_dims(test_x, 0)\n",
    "    # using absolute sum of differences here, INSTEAD of Mean Squared Error\n",
    "    # resulting dim is (10, 10000)\n",
    "    dist_to_means = np.sum(np.abs(diff_from_means), 2)\n",
    "    # find which mean each image is closest toInsert a new axis that will appear at the axis position in the expanded array shape.\n",
    "    # (10, 10000) becomes (10000,)\n",
    "    idx_of_means = np.argmin(dist_to_means, 0)\n",
    "    # create a one hot coded vector per datapoint\n",
    "    # (10, 10000)\n",
    "    a = np.eye(num_clusters)[idx_of_means].T\n",
    "    # multiply to get the sums of each cluster then divide by elements per cluster to get means\n",
    "    means = np.matmul(a, test_x) / np.expand_dims(np.sum(a, 1), 1)\n",
    "\n",
    "    clear_output(True)\n",
    "    print(\"Itteration [%d/%d]\" % (i, num_iter))\n",
    "\n",
    "end_time = time.time()\n",
    "print(\n",
    "    \"%d iterations took %.2f seconds, which corresponds to %.2fs/iteration\"\n",
    "    % (num_iter, end_time - start_time, (end_time - start_time) / num_iter)\n",
    ")"
   ]
  },
  {
   "cell_type": "code",
   "execution_count": 18,
   "metadata": {},
   "outputs": [
    {
     "data": {
      "text/plain": [
       "<matplotlib.image.AxesImage at 0x7f6a54fc4280>"
      ]
     },
     "execution_count": 18,
     "metadata": {},
     "output_type": "execute_result"
    },
    {
     "data": {
      "image/png": "[encoded data removed]",
      "text/plain": [
       "<Figure size 432x288 with 1 Axes>"
      ]
     },
     "metadata": {
      "needs_background": "light"
     },
     "output_type": "display_data"
    }
   ],
   "source": [
    "img = means.reshape(num_clusters * 28, 28)\n",
    "plt.imshow(img)"
   ]
  },
  {
   "cell_type": "code",
   "execution_count": null,
   "metadata": {},
   "outputs": [],
   "source": []
  }
 ],
 "metadata": {
  "kernelspec": {
   "display_name": "Python 3 (ipykernel)",
   "language": "python",
   "name": "python3"
  },
  "language_info": {
   "codemirror_mode": {
    "name": "ipython",
    "version": 3
   },
   "file_extension": ".py",
   "mimetype": "text/x-python",
   "name": "python",
   "nbconvert_exporter": "python",
   "pygments_lexer": "ipython3",
   "version": "3.8.10"
  }
 },
 "nbformat": 4,
 "nbformat_minor": 4
}
