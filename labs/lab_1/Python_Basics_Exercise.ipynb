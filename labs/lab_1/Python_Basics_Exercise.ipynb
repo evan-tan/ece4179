{
 "cells": [
  {
   "cell_type": "code",
   "execution_count": 1,
   "metadata": {},
   "outputs": [
    {
     "data": {
      "application/javascript": [
       "\n",
       "            setTimeout(function() {\n",
       "                var nbb_cell_id = 1;\n",
       "                var nbb_unformatted_code = \"%load_ext nb_black\";\n",
       "                var nbb_formatted_code = \"%load_ext nb_black\";\n",
       "                var nbb_cells = Jupyter.notebook.get_cells();\n",
       "                for (var i = 0; i < nbb_cells.length; ++i) {\n",
       "                    if (nbb_cells[i].input_prompt_number == nbb_cell_id) {\n",
       "                        if (nbb_cells[i].get_text() == nbb_unformatted_code) {\n",
       "                             nbb_cells[i].set_text(nbb_formatted_code);\n",
       "                        }\n",
       "                        break;\n",
       "                    }\n",
       "                }\n",
       "            }, 500);\n",
       "            "
      ],
      "text/plain": [
       "<IPython.core.display.Javascript object>"
      ]
     },
     "metadata": {},
     "output_type": "display_data"
    }
   ],
   "source": [
    "%load_ext nb_black"
   ]
  },
  {
   "cell_type": "markdown",
   "metadata": {},
   "source": [
    "### Exercise 1: \n",
    "Write a Python program to find the numbers between 1800 and 2400 (inclusive) that are multiples of both 5 and 8."
   ]
  },
  {
   "cell_type": "code",
   "execution_count": 2,
   "metadata": {},
   "outputs": [
    {
     "data": {
      "application/javascript": [
       "\n",
       "            setTimeout(function() {\n",
       "                var nbb_cell_id = 2;\n",
       "                var nbb_unformatted_code = \"def find_multiples():\\n    res = []\\n    for i in range(1800, 2400 + 1):\\n        if i % (5 * 8) == 0:\\n            res.append(i)\\n    return res\";\n",
       "                var nbb_formatted_code = \"def find_multiples():\\n    res = []\\n    for i in range(1800, 2400 + 1):\\n        if i % (5 * 8) == 0:\\n            res.append(i)\\n    return res\";\n",
       "                var nbb_cells = Jupyter.notebook.get_cells();\n",
       "                for (var i = 0; i < nbb_cells.length; ++i) {\n",
       "                    if (nbb_cells[i].input_prompt_number == nbb_cell_id) {\n",
       "                        if (nbb_cells[i].get_text() == nbb_unformatted_code) {\n",
       "                             nbb_cells[i].set_text(nbb_formatted_code);\n",
       "                        }\n",
       "                        break;\n",
       "                    }\n",
       "                }\n",
       "            }, 500);\n",
       "            "
      ],
      "text/plain": [
       "<IPython.core.display.Javascript object>"
      ]
     },
     "metadata": {},
     "output_type": "display_data"
    }
   ],
   "source": [
    "def find_multiples():\n",
    "    res = []\n",
    "    for i in range(1800, 2400 + 1):\n",
    "        if i % (5 * 8) == 0:\n",
    "            res.append(i)\n",
    "    return res"
   ]
  },
  {
   "cell_type": "code",
   "execution_count": 3,
   "metadata": {},
   "outputs": [
    {
     "data": {
      "text/plain": [
       "[1800,\n",
       " 1840,\n",
       " 1880,\n",
       " 1920,\n",
       " 1960,\n",
       " 2000,\n",
       " 2040,\n",
       " 2080,\n",
       " 2120,\n",
       " 2160,\n",
       " 2200,\n",
       " 2240,\n",
       " 2280,\n",
       " 2320,\n",
       " 2360,\n",
       " 2400]"
      ]
     },
     "execution_count": 3,
     "metadata": {},
     "output_type": "execute_result"
    },
    {
     "data": {
      "application/javascript": [
       "\n",
       "            setTimeout(function() {\n",
       "                var nbb_cell_id = 3;\n",
       "                var nbb_unformatted_code = \"find_multiples()\";\n",
       "                var nbb_formatted_code = \"find_multiples()\";\n",
       "                var nbb_cells = Jupyter.notebook.get_cells();\n",
       "                for (var i = 0; i < nbb_cells.length; ++i) {\n",
       "                    if (nbb_cells[i].input_prompt_number == nbb_cell_id) {\n",
       "                        if (nbb_cells[i].get_text() == nbb_unformatted_code) {\n",
       "                             nbb_cells[i].set_text(nbb_formatted_code);\n",
       "                        }\n",
       "                        break;\n",
       "                    }\n",
       "                }\n",
       "            }, 500);\n",
       "            "
      ],
      "text/plain": [
       "<IPython.core.display.Javascript object>"
      ]
     },
     "metadata": {},
     "output_type": "display_data"
    }
   ],
   "source": [
    "find_multiples()"
   ]
  },
  {
   "cell_type": "markdown",
   "metadata": {},
   "source": [
    "### Exercise2:\n",
    "Write a Python program to construct the following pattern, using a nested for loop.\n",
    "\n",
    "    * \n",
    "    * * \n",
    "    * * * \n",
    "    * * * * \n",
    "    * * * * * \n",
    "    * * * * \n",
    "    * * * \n",
    "    * * \n",
    "    *\n",
    "\n",
    "Note: to print without a newline after the text write print(\"Text to print\", end=\"\")"
   ]
  },
  {
   "cell_type": "code",
   "execution_count": 4,
   "metadata": {},
   "outputs": [
    {
     "data": {
      "application/javascript": [
       "\n",
       "            setTimeout(function() {\n",
       "                var nbb_cell_id = 4;\n",
       "                var nbb_unformatted_code = \"def print_triangle_thing(width):\\n    n_rows = 2 * width - 1\\n    symbol = \\\"*\\\"\\n    counter = 1\\n    for i in range(n_rows):\\n        row = \\\"\\\"\\n        for j in range(i + 1):\\n            row += symbol\\n        if i > width - 1:\\n            counter += 1\\n            # number of stars to remove\\n            k = i - width + counter\\n            row = row[:-k]\\n        row = row.replace(\\\"*\\\", \\\"* \\\")\\n        print(row)\";\n",
       "                var nbb_formatted_code = \"def print_triangle_thing(width):\\n    n_rows = 2 * width - 1\\n    symbol = \\\"*\\\"\\n    counter = 1\\n    for i in range(n_rows):\\n        row = \\\"\\\"\\n        for j in range(i + 1):\\n            row += symbol\\n        if i > width - 1:\\n            counter += 1\\n            # number of stars to remove\\n            k = i - width + counter\\n            row = row[:-k]\\n        row = row.replace(\\\"*\\\", \\\"* \\\")\\n        print(row)\";\n",
       "                var nbb_cells = Jupyter.notebook.get_cells();\n",
       "                for (var i = 0; i < nbb_cells.length; ++i) {\n",
       "                    if (nbb_cells[i].input_prompt_number == nbb_cell_id) {\n",
       "                        if (nbb_cells[i].get_text() == nbb_unformatted_code) {\n",
       "                             nbb_cells[i].set_text(nbb_formatted_code);\n",
       "                        }\n",
       "                        break;\n",
       "                    }\n",
       "                }\n",
       "            }, 500);\n",
       "            "
      ],
      "text/plain": [
       "<IPython.core.display.Javascript object>"
      ]
     },
     "metadata": {},
     "output_type": "display_data"
    }
   ],
   "source": [
    "def print_triangle_thing(width):\n",
    "    n_rows = 2 * width - 1\n",
    "    symbol = \"*\"\n",
    "    counter = 1\n",
    "    for i in range(n_rows):\n",
    "        row = \"\"\n",
    "        for j in range(i + 1):\n",
    "            row += symbol\n",
    "        if i > width - 1:\n",
    "            counter += 1\n",
    "            # number of stars to remove\n",
    "            k = i - width + counter\n",
    "            row = row[:-k]\n",
    "        row = row.replace(\"*\", \"* \")\n",
    "        print(row)"
   ]
  },
  {
   "cell_type": "code",
   "execution_count": 5,
   "metadata": {},
   "outputs": [
    {
     "name": "stdout",
     "output_type": "stream",
     "text": [
      "* \n",
      "* * \n",
      "* * * \n",
      "* * * * \n",
      "* * * * * \n",
      "* * * * \n",
      "* * * \n",
      "* * \n",
      "* \n"
     ]
    },
    {
     "data": {
      "application/javascript": [
       "\n",
       "            setTimeout(function() {\n",
       "                var nbb_cell_id = 5;\n",
       "                var nbb_unformatted_code = \"print_triangle_thing(5)\";\n",
       "                var nbb_formatted_code = \"print_triangle_thing(5)\";\n",
       "                var nbb_cells = Jupyter.notebook.get_cells();\n",
       "                for (var i = 0; i < nbb_cells.length; ++i) {\n",
       "                    if (nbb_cells[i].input_prompt_number == nbb_cell_id) {\n",
       "                        if (nbb_cells[i].get_text() == nbb_unformatted_code) {\n",
       "                             nbb_cells[i].set_text(nbb_formatted_code);\n",
       "                        }\n",
       "                        break;\n",
       "                    }\n",
       "                }\n",
       "            }, 500);\n",
       "            "
      ],
      "text/plain": [
       "<IPython.core.display.Javascript object>"
      ]
     },
     "metadata": {},
     "output_type": "display_data"
    }
   ],
   "source": [
    "print_triangle_thing(5)"
   ]
  },
  {
   "cell_type": "markdown",
   "metadata": {},
   "source": [
    "### Exercise3:\n",
    "Create a function that sorts the following lists of numbers from ascending or decending order"
   ]
  },
  {
   "cell_type": "code",
   "execution_count": 6,
   "metadata": {},
   "outputs": [
    {
     "name": "stdout",
     "output_type": "stream",
     "text": [
      "[2, 5, 7, 8, 12, 16, 19, 21, 28]\n",
      "[100, 32, 21, 21, 8, 5]\n",
      "[29]\n"
     ]
    },
    {
     "data": {
      "application/javascript": [
       "\n",
       "            setTimeout(function() {\n",
       "                var nbb_cell_id = 6;\n",
       "                var nbb_unformatted_code = \"def sort_list(list_of_numbers, ascending=True):\\n    return sorted(list_of_numbers, reverse=not ascending)\\n\\n\\nprint(sort_list([16, 2, 28, 19, 8, 5, 21, 12, 7]))\\nprint(sort_list([32, 8, 5, 21, 100, 21], ascending=False))\\nprint(sort_list([29]))\";\n",
       "                var nbb_formatted_code = \"def sort_list(list_of_numbers, ascending=True):\\n    return sorted(list_of_numbers, reverse=not ascending)\\n\\n\\nprint(sort_list([16, 2, 28, 19, 8, 5, 21, 12, 7]))\\nprint(sort_list([32, 8, 5, 21, 100, 21], ascending=False))\\nprint(sort_list([29]))\";\n",
       "                var nbb_cells = Jupyter.notebook.get_cells();\n",
       "                for (var i = 0; i < nbb_cells.length; ++i) {\n",
       "                    if (nbb_cells[i].input_prompt_number == nbb_cell_id) {\n",
       "                        if (nbb_cells[i].get_text() == nbb_unformatted_code) {\n",
       "                             nbb_cells[i].set_text(nbb_formatted_code);\n",
       "                        }\n",
       "                        break;\n",
       "                    }\n",
       "                }\n",
       "            }, 500);\n",
       "            "
      ],
      "text/plain": [
       "<IPython.core.display.Javascript object>"
      ]
     },
     "metadata": {},
     "output_type": "display_data"
    }
   ],
   "source": [
    "def sort_list(list_of_numbers, ascending=True):\n",
    "    return sorted(list_of_numbers, reverse=not ascending)\n",
    "\n",
    "\n",
    "print(sort_list([16, 2, 28, 19, 8, 5, 21, 12, 7]))\n",
    "print(sort_list([32, 8, 5, 21, 100, 21], ascending=False))\n",
    "print(sort_list([29]))"
   ]
  },
  {
   "cell_type": "markdown",
   "metadata": {},
   "source": [
    "#### Exercise 4:\n",
    "Write a Python function to calculate the factoral of a number. Pass the number as an arguement."
   ]
  },
  {
   "cell_type": "code",
   "execution_count": 7,
   "metadata": {},
   "outputs": [
    {
     "name": "stdout",
     "output_type": "stream",
     "text": [
      "120\n"
     ]
    },
    {
     "data": {
      "application/javascript": [
       "\n",
       "            setTimeout(function() {\n",
       "                var nbb_cell_id = 7;\n",
       "                var nbb_unformatted_code = \"def factorial(number):\\n    if number == 0:\\n        return 1\\n    return number * factorial(number - 1)\\n\\n\\nprint(factorial(5))\";\n",
       "                var nbb_formatted_code = \"def factorial(number):\\n    if number == 0:\\n        return 1\\n    return number * factorial(number - 1)\\n\\n\\nprint(factorial(5))\";\n",
       "                var nbb_cells = Jupyter.notebook.get_cells();\n",
       "                for (var i = 0; i < nbb_cells.length; ++i) {\n",
       "                    if (nbb_cells[i].input_prompt_number == nbb_cell_id) {\n",
       "                        if (nbb_cells[i].get_text() == nbb_unformatted_code) {\n",
       "                             nbb_cells[i].set_text(nbb_formatted_code);\n",
       "                        }\n",
       "                        break;\n",
       "                    }\n",
       "                }\n",
       "            }, 500);\n",
       "            "
      ],
      "text/plain": [
       "<IPython.core.display.Javascript object>"
      ]
     },
     "metadata": {},
     "output_type": "display_data"
    }
   ],
   "source": [
    "def factorial(number):\n",
    "    if number == 0:\n",
    "        return 1\n",
    "    return number * factorial(number - 1)\n",
    "\n",
    "\n",
    "print(factorial(5))"
   ]
  },
  {
   "cell_type": "markdown",
   "metadata": {},
   "source": [
    "### Exercise 5:\n",
    "Write a Python class named Circle constructed by a radius and two methods which will compute the area and the perimeter of a circle. (Use 3.14 as the value of pi)"
   ]
  },
  {
   "cell_type": "code",
   "execution_count": 8,
   "metadata": {},
   "outputs": [
    {
     "name": "stdout",
     "output_type": "stream",
     "text": [
      "Circle area 201.06\n",
      "Circle perimeter 50.27\n"
     ]
    },
    {
     "data": {
      "application/javascript": [
       "\n",
       "            setTimeout(function() {\n",
       "                var nbb_cell_id = 8;\n",
       "                var nbb_unformatted_code = \"import numpy as np\\n\\n\\nclass Circle:\\n    def __init__(self, radius):\\n        self._radius = radius\\n\\n    def area(self):\\n        return np.pi * self._radius ** 2\\n\\n    def perimeter(self):\\n        return np.pi * self._radius * 2\\n\\n\\nnew_circle = Circle(8)\\nprint(\\\"Circle area %.2f\\\" % new_circle.area())\\nprint(\\\"Circle perimeter %.2f\\\" % new_circle.perimeter())\";\n",
       "                var nbb_formatted_code = \"import numpy as np\\n\\n\\nclass Circle:\\n    def __init__(self, radius):\\n        self._radius = radius\\n\\n    def area(self):\\n        return np.pi * self._radius ** 2\\n\\n    def perimeter(self):\\n        return np.pi * self._radius * 2\\n\\n\\nnew_circle = Circle(8)\\nprint(\\\"Circle area %.2f\\\" % new_circle.area())\\nprint(\\\"Circle perimeter %.2f\\\" % new_circle.perimeter())\";\n",
       "                var nbb_cells = Jupyter.notebook.get_cells();\n",
       "                for (var i = 0; i < nbb_cells.length; ++i) {\n",
       "                    if (nbb_cells[i].input_prompt_number == nbb_cell_id) {\n",
       "                        if (nbb_cells[i].get_text() == nbb_unformatted_code) {\n",
       "                             nbb_cells[i].set_text(nbb_formatted_code);\n",
       "                        }\n",
       "                        break;\n",
       "                    }\n",
       "                }\n",
       "            }, 500);\n",
       "            "
      ],
      "text/plain": [
       "<IPython.core.display.Javascript object>"
      ]
     },
     "metadata": {},
     "output_type": "display_data"
    }
   ],
   "source": [
    "import numpy as np\n",
    "\n",
    "\n",
    "class Circle:\n",
    "    def __init__(self, radius):\n",
    "        self._radius = radius\n",
    "\n",
    "    def area(self):\n",
    "        return np.pi * self._radius ** 2\n",
    "\n",
    "    def perimeter(self):\n",
    "        return np.pi * self._radius * 2\n",
    "\n",
    "\n",
    "new_circle = Circle(8)\n",
    "print(\"Circle area %.2f\" % new_circle.area())\n",
    "print(\"Circle perimeter %.2f\" % new_circle.perimeter())"
   ]
  },
  {
   "cell_type": "markdown",
   "metadata": {},
   "source": [
    "### Exercise 6:\n",
    "Using the previous class create a new class that computes the volume and surface area of a cylinder by inheriting properties of the Circle class"
   ]
  },
  {
   "cell_type": "code",
   "execution_count": 9,
   "metadata": {},
   "outputs": [
    {
     "name": "stdout",
     "output_type": "stream",
     "text": [
      "Cylinder surface area 904.78\n",
      "Cylinder volume 2010.62\n"
     ]
    },
    {
     "data": {
      "application/javascript": [
       "\n",
       "            setTimeout(function() {\n",
       "                var nbb_cell_id = 9;\n",
       "                var nbb_unformatted_code = \"import numpy as np\\n\\n\\nclass Cylinder(Circle):\\n    def __init__(self, radius, height):\\n        super().__init__(radius)\\n        self._height = height\\n\\n    def surface_area(self):\\n        return self.perimeter() * self._height + 2 * self.area()\\n\\n    def volume(self):\\n        return self.area() * self._height\\n\\n\\nnew_cylinder = Cylinder(8, 10)\\nprint(f\\\"Cylinder surface area {new_cylinder.surface_area():.2f}\\\")\\nprint(f\\\"Cylinder volume {new_cylinder.volume():.2f}\\\")\";\n",
       "                var nbb_formatted_code = \"import numpy as np\\n\\n\\nclass Cylinder(Circle):\\n    def __init__(self, radius, height):\\n        super().__init__(radius)\\n        self._height = height\\n\\n    def surface_area(self):\\n        return self.perimeter() * self._height + 2 * self.area()\\n\\n    def volume(self):\\n        return self.area() * self._height\\n\\n\\nnew_cylinder = Cylinder(8, 10)\\nprint(f\\\"Cylinder surface area {new_cylinder.surface_area():.2f}\\\")\\nprint(f\\\"Cylinder volume {new_cylinder.volume():.2f}\\\")\";\n",
       "                var nbb_cells = Jupyter.notebook.get_cells();\n",
       "                for (var i = 0; i < nbb_cells.length; ++i) {\n",
       "                    if (nbb_cells[i].input_prompt_number == nbb_cell_id) {\n",
       "                        if (nbb_cells[i].get_text() == nbb_unformatted_code) {\n",
       "                             nbb_cells[i].set_text(nbb_formatted_code);\n",
       "                        }\n",
       "                        break;\n",
       "                    }\n",
       "                }\n",
       "            }, 500);\n",
       "            "
      ],
      "text/plain": [
       "<IPython.core.display.Javascript object>"
      ]
     },
     "metadata": {},
     "output_type": "display_data"
    }
   ],
   "source": [
    "import numpy as np\n",
    "\n",
    "\n",
    "class Cylinder(Circle):\n",
    "    def __init__(self, radius, height):\n",
    "        super().__init__(radius)\n",
    "        self._height = height\n",
    "\n",
    "    def surface_area(self):\n",
    "        return self.perimeter() * self._height + 2 * self.area()\n",
    "\n",
    "    def volume(self):\n",
    "        return self.area() * self._height\n",
    "\n",
    "\n",
    "new_cylinder = Cylinder(8, 10)\n",
    "print(f\"Cylinder surface area {new_cylinder.surface_area():.2f}\")\n",
    "print(f\"Cylinder volume {new_cylinder.volume():.2f}\")"
   ]
  },
  {
   "cell_type": "code",
   "execution_count": null,
   "metadata": {},
   "outputs": [],
   "source": []
  },
  {
   "cell_type": "code",
   "execution_count": null,
   "metadata": {},
   "outputs": [],
   "source": []
  },
  {
   "cell_type": "code",
   "execution_count": null,
   "metadata": {},
   "outputs": [],
   "source": []
  }
 ],
 "metadata": {
  "kernelspec": {
   "display_name": "Python (jlab)",
   "language": "python",
   "name": "myenv"
  },
  "language_info": {
   "codemirror_mode": {
    "name": "ipython",
    "version": 3
   },
   "file_extension": ".py",
   "mimetype": "text/x-python",
   "name": "python",
   "nbconvert_exporter": "python",
   "pygments_lexer": "ipython3",
   "version": "3.6.13"
  }
 },
 "nbformat": 4,
 "nbformat_minor": 4
}
