{
 "cells": [
  {
   "cell_type": "markdown",
   "metadata": {},
   "source": [
    "<h1>Python Libraries and Matplotlib</h1>\n",
    "\n",
    "![alt text](https://matplotlib.org/_static/logo2_compressed.svg)"
   ]
  },
  {
   "cell_type": "markdown",
   "metadata": {},
   "source": [
    "<h2> Introduction </h2> <br>\n",
    "Up unitl now we have only had a look at what basic Python as to offer, but there is a whole WORLD of Libraries (commonly called Modules in Python) out there! A Module/Library is essentially code someone else as written either in Python or in another language that can be used with Python functions. In this lab we will quickly look at how we import installed libraries so we can use them and then we will focus on the matplotlib library."
   ]
  },
  {
   "cell_type": "markdown",
   "metadata": {},
   "source": [
    "<h3> Importing libraries </h3> <br>\n",
    "If we have installed a library correctly we can import all it's functunality by simply using the keyword \"import\".<br>"
   ]
  },
  {
   "cell_type": "code",
   "execution_count": null,
   "metadata": {},
   "outputs": [],
   "source": [
    "import math"
   ]
  },
  {
   "cell_type": "markdown",
   "metadata": {},
   "source": [
    "We can now use functions from this library!<br>\n",
    "\"math\" is a pretty basic module that comes with Python. It has a number of functions that can perform common mathematical functions\n",
    "\n",
    "[math](https://docs.python.org/3/library/math.html)"
   ]
  },
  {
   "cell_type": "code",
   "execution_count": null,
   "metadata": {},
   "outputs": [],
   "source": [
    "#Take the natural log of 10\n",
    "num = math.log(10)"
   ]
  },
  {
   "cell_type": "markdown",
   "metadata": {},
   "source": [
    "We can also import the library using a different name by using \"import ... as ...\"<br> \n",
    "\"random\" is a pretty basic module that comes with Python. It can generate pseudo-random numbers from a number of distributions.\n",
    "\n",
    "[random](https://docs.python.org/3/library/random.html)"
   ]
  },
  {
   "cell_type": "code",
   "execution_count": null,
   "metadata": {},
   "outputs": [],
   "source": [
    "import random as rd"
   ]
  },
  {
   "cell_type": "code",
   "execution_count": null,
   "metadata": {},
   "outputs": [],
   "source": [
    "#Generate a random number from a uniform distribution 0 <= X <= 1\n",
    "rand_num = rd.randint(0, 10)"
   ]
  },
  {
   "cell_type": "markdown",
   "metadata": {},
   "source": [
    "It is also possible to only import PART of a library. Most libraries are hierarchical with modules containing sub-modules etc. Let's import part of a library "
   ]
  },
  {
   "cell_type": "code",
   "execution_count": null,
   "metadata": {},
   "outputs": [],
   "source": [
    "import matplotlib.pyplot as plt"
   ]
  },
  {
   "cell_type": "markdown",
   "metadata": {},
   "source": [
    "You can see that we've only imported the \"pyplot\" module of the matplotlib library and called it \"plt\""
   ]
  },
  {
   "cell_type": "markdown",
   "metadata": {},
   "source": [
    "<h2> Matplotlib </h2>\n",
    "Now that we've imported matplotlib lets see what it is!<br>\n",
    "Matplotlib is a \"Matlab-ish\" plotting librariy that lets us create all sorts of figures and plots. As suggested it works very similarly to Matlab's plotting functunality (specifically matplotlib.pyplot). Let's see how we can create some simple plots!\n",
    "\n",
    "[Matplotlib](https://matplotlib.org/index.html)"
   ]
  },
  {
   "cell_type": "markdown",
   "metadata": {},
   "source": [
    "<h3>plot</h3>\n",
    "\"plot\" is the simplest and most common plotting function, it simply creates a line plot from a list of values. (it also can take other data types and is commonly used with the numpy library - wait till next week!)"
   ]
  },
  {
   "cell_type": "code",
   "execution_count": null,
   "metadata": {},
   "outputs": [],
   "source": [
    "#lets create a plot of a sine wave!\n",
    "#create some empty lists\n",
    "x_values = []\n",
    "y_values = []\n",
    "\n",
    "#In a for-loop create the x and y values\n",
    "#use the math function \"sin\" to compute the sine\n",
    "for i in range(100):\n",
    "    x_values.append(i)\n",
    "    y_values.append(math.sin(0.2*i))\n",
    "\n",
    "plt.plot(x_values, y_values)"
   ]
  },
  {
   "cell_type": "markdown",
   "metadata": {},
   "source": [
    "Lets add some labels and a title to the plot"
   ]
  },
  {
   "cell_type": "code",
   "execution_count": null,
   "metadata": {},
   "outputs": [],
   "source": [
    "plt.plot(x_values, y_values)\n",
    "#Y axis lable\n",
    "plt.ylabel('Sine of X')\n",
    "#X axis lable\n",
    "plt.xlabel('X')\n",
    "#Plot title\n",
    "plt.title(\"Sine Plot\")"
   ]
  },
  {
   "cell_type": "markdown",
   "metadata": {},
   "source": [
    "We can even change some of the properties of the line"
   ]
  },
  {
   "cell_type": "code",
   "execution_count": null,
   "metadata": {},
   "outputs": [],
   "source": [
    "#c = colour\n",
    "#marker = line/datapoint style\n",
    "plt.plot(x_values, y_values, c = \"r\", marker = \"o\")\n",
    "plt.ylabel('Sine of X')\n",
    "plt.xlabel('X')\n",
    "plt.title(\"Sine Plot\")"
   ]
  },
  {
   "cell_type": "markdown",
   "metadata": {},
   "source": [
    "<h3>scatter</h3>\n",
    "Another common type of plot used is the scatter plot!"
   ]
  },
  {
   "cell_type": "code",
   "execution_count": null,
   "metadata": {},
   "outputs": [],
   "source": [
    "#lets create a plot of a noisy parabola!\n",
    "#create some empty lists\n",
    "x_parab_values = []\n",
    "y_parab_values = []\n",
    "\n",
    "#In a for-loop create the x and y values\n",
    "#use the math function \"pow\" to compute x^2\n",
    "#and then add a random number from 0 - 1\n",
    "for i in range(-50, 50):\n",
    "    x_parab_values.append(i/20)\n",
    "    y_parab_values.append(math.pow(i/20, 2) + rd.random())"
   ]
  },
  {
   "cell_type": "code",
   "execution_count": null,
   "metadata": {},
   "outputs": [],
   "source": [
    "plt.scatter(x_parab_values, y_parab_values, c = \"k\", marker = \"*\")\n",
    "plt.ylabel('Y')\n",
    "plt.xlabel('X')\n",
    "plt.title(\"Noisy Parabola\")"
   ]
  },
  {
   "cell_type": "markdown",
   "metadata": {},
   "source": [
    "<h3>Figures</h3>\n",
    "These plots are a bit small, Lets increase the size!"
   ]
  },
  {
   "cell_type": "code",
   "execution_count": null,
   "metadata": {},
   "outputs": [],
   "source": [
    "plt.figure(figsize=(20, 10))\n",
    "plt.scatter(x_parab_values, y_parab_values, c = \"k\", marker = \"*\")\n",
    "plt.ylabel('Y')\n",
    "plt.xlabel('X')\n",
    "plt.title(\"Noisy Parabola\")"
   ]
  },
  {
   "cell_type": "markdown",
   "metadata": {},
   "source": [
    " \"plt.figure\" changes the properties of the \"current\" figure. In the case of using Jupyter notebooks this is whatever we are plotting in the current cell (it won't overwrite other cells that have already plotted) but if we only have one figure matplotlib will plot everything on the same figure."
   ]
  },
  {
   "cell_type": "code",
   "execution_count": null,
   "metadata": {},
   "outputs": [],
   "source": [
    "plt.scatter(x_parab_values, y_parab_values, c = \"k\", marker = \"*\")\n",
    "plt.ylabel('Y')\n",
    "plt.xlabel('X')\n",
    "plt.title(\"Noisy Parabola\")\n",
    "\n",
    "plt.plot(x_values, y_values, c = \"r\", marker = \"o\")\n",
    "plt.ylabel('Sine of X')\n",
    "plt.xlabel('X')\n",
    "plt.title(\"Sine Plot\")"
   ]
  },
  {
   "cell_type": "markdown",
   "metadata": {},
   "source": [
    "<h3>Creating multiple figures</h3>\n",
    "One way we can easily get around this mess is by creating multiple figures"
   ]
  },
  {
   "cell_type": "code",
   "execution_count": null,
   "metadata": {},
   "outputs": [],
   "source": [
    "#Create a figure\n",
    "plt.figure(1, figsize=(20, 10))\n",
    "plt.scatter(x_parab_values, y_parab_values, c = \"k\", marker = \"*\")\n",
    "plt.ylabel('Y')\n",
    "plt.xlabel('X')\n",
    "plt.title(\"Noisy Parabola\")\n",
    "\n",
    "#Create a new figure\n",
    "plt.figure(2, figsize=(20, 10))\n",
    "plt.plot(x_values, y_values, c = \"r\", marker = \"o\")\n",
    "plt.ylabel('Sine of X')\n",
    "plt.xlabel('X')\n",
    "plt.title(\"Sine Plot\")"
   ]
  },
  {
   "cell_type": "markdown",
   "metadata": {},
   "source": [
    "<h3>Creating Subplots</h3>\n",
    "Now let's look at is how we can plot multiple graphs independantly on the same figure"
   ]
  },
  {
   "cell_type": "code",
   "execution_count": null,
   "metadata": {},
   "outputs": [],
   "source": [
    "plt.figure(1, figsize=(10, 10))\n",
    "plt.subplot(211)\n",
    "plt.scatter(x_parab_values, y_parab_values, c = \"k\", marker = \"*\")\n",
    "plt.ylabel('Y')\n",
    "plt.xlabel('X')\n",
    "plt.title(\"Noisy Parabola\")\n",
    "\n",
    "plt.subplot(212)\n",
    "plt.plot(x_values, y_values, c = \"r\", marker = \"o\")\n",
    "plt.ylabel('Sine of X')\n",
    "plt.xlabel('X')\n",
    "plt.title(\"Sine Plot\")"
   ]
  },
  {
   "cell_type": "markdown",
   "metadata": {},
   "source": [
    "<h3>Saving Plots</h3>\n",
    "Looking pretty good now! Let's finally save this plot so we can use it later!"
   ]
  },
  {
   "cell_type": "code",
   "execution_count": null,
   "metadata": {},
   "outputs": [],
   "source": [
    "plt.figure(1, figsize=(10, 10))\n",
    "plt.subplot(211)\n",
    "plt.scatter(x_parab_values, y_parab_values, c = \"k\", marker = \"*\")\n",
    "plt.ylabel('Y')\n",
    "plt.xlabel('X')\n",
    "plt.title(\"Noisy Parabola\")\n",
    "\n",
    "plt.subplot(212)\n",
    "plt.plot(x_values, y_values, c = \"r\", marker = \"o\")\n",
    "plt.ylabel('Sine of X')\n",
    "plt.xlabel('X')\n",
    "plt.title(\"Sine Plot\")\n",
    "\n",
    "#savefig will save the current figure, for Jupyter it needs to be in the same cell as the plot\n",
    "plt.savefig(\"Test_plot.jpg\")"
   ]
  },
  {
   "cell_type": "markdown",
   "metadata": {},
   "source": [
    "There are many many other functionalities that matplotlib gives us and we will explore these in future labs!"
   ]
  }
 ],
 "metadata": {
  "kernelspec": {
   "display_name": "Python 3 (ipykernel)",
   "language": "python",
   "name": "python3"
  },
  "language_info": {
   "codemirror_mode": {
    "name": "ipython",
    "version": 3
   },
   "file_extension": ".py",
   "mimetype": "text/x-python",
   "name": "python",
   "nbconvert_exporter": "python",
   "pygments_lexer": "ipython3",
   "version": "3.8.10"
  }
 },
 "nbformat": 4,
 "nbformat_minor": 4
}
