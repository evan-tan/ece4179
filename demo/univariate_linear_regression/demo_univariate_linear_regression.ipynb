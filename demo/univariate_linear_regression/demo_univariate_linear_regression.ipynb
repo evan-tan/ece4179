{
 "cells": [
  {
   "cell_type": "markdown",
   "metadata": {},
   "source": [
    "# Univariate linear regression"
   ]
  },
  {
   "cell_type": "markdown",
   "metadata": {},
   "source": [
    "In this example, we will use the linear regression to predict the profit of a food truck given the population and profits of various cities. We have a dataset for this purpose which we load first."
   ]
  },
  {
   "cell_type": "code",
   "execution_count": 14,
   "metadata": {},
   "outputs": [],
   "source": [
    "import numpy as np\n",
    "import matplotlib.pyplot as plt\n",
    "\n",
    "data = np.loadtxt('data/profit_food_truck.txt',delimiter=',')\n",
    "data = np.array(data)"
   ]
  },
  {
   "cell_type": "markdown",
   "metadata": {},
   "source": [
    "|  sample#       | Population    | Profit  |\n",
    "| -------------  |:-------------:| -------:|\n",
    "| 0              | 6.1101        | 17.5920 |\n",
    "| 1              | 5.5277        | 9.1302  |\n",
    "| 2              | 8.5186        | 13.6620 |\n",
    "| 3              | 7.0032        | 11.8540 |\n",
    "| 4              | 5.8598        | 6.8233  |\n",
    "\n"
   ]
  },
  {
   "cell_type": "markdown",
   "metadata": {},
   "source": [
    "We plot our fata to geta better feeling"
   ]
  },
  {
   "cell_type": "code",
   "execution_count": 15,
   "metadata": {},
   "outputs": [
    {
     "data": {
      "text/plain": [
       "<matplotlib.collections.PathCollection at 0x7facaefba750>"
      ]
     },
     "execution_count": 15,
     "metadata": {},
     "output_type": "execute_result"
    },
    {
     "data": {
      "image/png": "[encoded data removed]",
      "text/plain": [
       "<Figure size 432x288 with 1 Axes>"
      ]
     },
     "metadata": {
      "needs_background": "light"
     },
     "output_type": "display_data"
    }
   ],
   "source": [
    "X = data[:,0]\n",
    "y = data[:,1]\n",
    "#Plot dataset\n",
    "plt.scatter(X, y) \n",
    "\n",
    "\n"
   ]
  },
  {
   "cell_type": "markdown",
   "metadata": {},
   "source": [
    "to obtain the parameters of the model, we need to compute $\\bar{x} = \\frac{1}{m}\\sum\\limits_{i=1}^m x_i$ \n",
    "and $\\bar{y} = \\frac{1}{m}\\sum\\limits_{i=1}^m y_i$ first.\n",
    "\n"
   ]
  },
  {
   "cell_type": "code",
   "execution_count": 16,
   "metadata": {},
   "outputs": [],
   "source": [
    "x_bar = X.mean()\n",
    "y_bar = y.mean()"
   ]
  },
  {
   "cell_type": "markdown",
   "metadata": {},
   "source": [
    "Next we need \n",
    "\\begin{align}\n",
    "\\hat{\\sigma}^2_{xx} &= \\frac{1}{m}\\sum_{i=1}^m\\limits (x_i - \\bar{x})^2\\\\\n",
    "\\hat{\\sigma}^2_{xy} &= \\frac{1}{m}\\sum_{i=1}^m\\limits (x_i - \\bar{x})(y_i - \\bar{y})\\\\\n",
    "\\end{align}"
   ]
  },
  {
   "cell_type": "code",
   "execution_count": 17,
   "metadata": {},
   "outputs": [],
   "source": [
    "sigma_xx = ((X-x_bar)**2).mean()\n",
    "sigma_xy = ((X-x_bar)*(y-y_bar)).mean()"
   ]
  },
  {
   "cell_type": "markdown",
   "metadata": {},
   "source": [
    "Now the parameters of the model can be obtained by\n",
    "\n",
    "\\begin{align}\n",
    "{w}^\\ast \\leftarrow {\\hat{\\sigma}^2_{x y}}/{\\hat{\\sigma}^2_{xx}}\\\\\n",
    "{b}^\\ast \\leftarrow \\bar{y}-\\bar{x}w^\\ast\\\\\n",
    "\\end{align}"
   ]
  },
  {
   "cell_type": "code",
   "execution_count": 18,
   "metadata": {},
   "outputs": [],
   "source": [
    "w_star = sigma_xy/sigma_xx\n",
    "b_star = y_bar - w_star*x_bar"
   ]
  },
  {
   "cell_type": "markdown",
   "metadata": {},
   "source": [
    "### Predictions\n",
    "To predict the value at $x$, we will use $\\hat{y} = w^{\\ast}x + b^\\ast$. Let's plot the predictions "
   ]
  },
  {
   "cell_type": "code",
   "execution_count": 19,
   "metadata": {},
   "outputs": [
    {
     "data": {
      "image/png": "[encoded data removed]",
      "text/plain": [
       "<Figure size 432x288 with 1 Axes>"
      ]
     },
     "metadata": {
      "needs_background": "light"
     },
     "output_type": "display_data"
    }
   ],
   "source": [
    "y_hat = w_star*X + b_star\n",
    "#Plot predictions as line of best fit\n",
    "plt.scatter(X, y) \n",
    "plt.plot(X, y_hat, c='r')\n",
    "plt.xlabel('Hours of study')\n",
    "plt.ylabel('Test scores')\n",
    "plt.title('Line of best fit')\n",
    "plt.show()"
   ]
  },
  {
   "cell_type": "code",
   "execution_count": null,
   "metadata": {},
   "outputs": [],
   "source": []
  }
 ],
 "metadata": {
  "kernelspec": {
   "display_name": "Python 3",
   "language": "python",
   "name": "python3"
  },
  "language_info": {
   "codemirror_mode": {
    "name": "ipython",
    "version": 3
   },
   "file_extension": ".py",
   "mimetype": "text/x-python",
   "name": "python",
   "nbconvert_exporter": "python",
   "pygments_lexer": "ipython3",
   "version": "3.7.7"
  }
 },
 "nbformat": 4,
 "nbformat_minor": 4
}
